{
  "cells": [
    {
      "cell_type": "code",
      "execution_count": 10,
      "metadata": {
        "id": "Y2gh0njrnMPL"
      },
      "outputs": [],
      "source": [
        "import pandas as pd\n",
        "import matplotlib\n",
        "import matplotlib.pyplot as plt\n",
        "import seaborn as sns\n",
        "import numpy as np"
      ]
    },
    {
      "cell_type": "code",
      "execution_count": 11,
      "metadata": {
        "id": "dJRW2wPlnZyr"
      },
      "outputs": [],
      "source": [
        "df_test = pd.read_csv(\"career_recommender.csv\")"
      ]
    },
    {
      "cell_type": "code",
      "execution_count": 12,
      "metadata": {
        "colab": {
          "base_uri": "https://localhost:8080/",
          "height": 521
        },
        "id": "CVy0omqjngVm",
        "outputId": "d9d2ee9f-b88d-44a5-89d9-7031b3377c8e"
      },
      "outputs": [
        {
          "data": {
            "text/html": [
              "<div>\n",
              "<style scoped>\n",
              "    .dataframe tbody tr th:only-of-type {\n",
              "        vertical-align: middle;\n",
              "    }\n",
              "\n",
              "    .dataframe tbody tr th {\n",
              "        vertical-align: top;\n",
              "    }\n",
              "\n",
              "    .dataframe thead th {\n",
              "        text-align: right;\n",
              "    }\n",
              "</style>\n",
              "<table border=\"1\" class=\"dataframe\">\n",
              "  <thead>\n",
              "    <tr style=\"text-align: right;\">\n",
              "      <th></th>\n",
              "      <th>What is your name?</th>\n",
              "      <th>What is your gender?</th>\n",
              "      <th>What was your course in UG?</th>\n",
              "      <th>What is your UG specialization? Major Subject (Eg; Mathematics)</th>\n",
              "      <th>What are your interests?</th>\n",
              "      <th>What are your skills ? (Select multiple if necessary)</th>\n",
              "      <th>What was the average CGPA or Percentage obtained in under graduation?</th>\n",
              "      <th>Did you do any certification courses additionally?</th>\n",
              "      <th>If yes, please specify your certificate course title.</th>\n",
              "      <th>Are you working?</th>\n",
              "      <th>If yes, then what is/was your first Job title in your current field of work? If not applicable, write NA.</th>\n",
              "      <th>Have you done masters after undergraduation? If yes, mention your field of masters.(Eg; Masters in Mathematics)</th>\n",
              "    </tr>\n",
              "  </thead>\n",
              "  <tbody>\n",
              "    <tr>\n",
              "      <th>0</th>\n",
              "      <td>A.Uha Priya</td>\n",
              "      <td>Female</td>\n",
              "      <td>B.Sc</td>\n",
              "      <td>Computer Applications</td>\n",
              "      <td>Cloud computing</td>\n",
              "      <td>Python;SQL;Java</td>\n",
              "      <td>85</td>\n",
              "      <td>Yes</td>\n",
              "      <td>Linux,Git</td>\n",
              "      <td>Yes</td>\n",
              "      <td>Software</td>\n",
              "      <td>MCA</td>\n",
              "    </tr>\n",
              "    <tr>\n",
              "      <th>1</th>\n",
              "      <td>Aadil</td>\n",
              "      <td>Male</td>\n",
              "      <td>B.E</td>\n",
              "      <td>Computer Science Engineering</td>\n",
              "      <td>Technology</td>\n",
              "      <td>Critical Thinking, Analytic Thinking, SQL, Pro...</td>\n",
              "      <td>66.5</td>\n",
              "      <td>Yes</td>\n",
              "      <td>Microsoft certification</td>\n",
              "      <td>Yes</td>\n",
              "      <td>Computer Software Engineer</td>\n",
              "      <td>NaN</td>\n",
              "    </tr>\n",
              "    <tr>\n",
              "      <th>2</th>\n",
              "      <td>Aakriti</td>\n",
              "      <td>Female</td>\n",
              "      <td>BA</td>\n",
              "      <td>Psychology</td>\n",
              "      <td>Understand human behaviour</td>\n",
              "      <td>People management;Communication skills</td>\n",
              "      <td>64.6</td>\n",
              "      <td>Yes</td>\n",
              "      <td>Resilience psychology</td>\n",
              "      <td>No</td>\n",
              "      <td>NaN</td>\n",
              "      <td>NaN</td>\n",
              "    </tr>\n",
              "    <tr>\n",
              "      <th>3</th>\n",
              "      <td>Aanchal sharma</td>\n",
              "      <td>Female</td>\n",
              "      <td>MBA</td>\n",
              "      <td>Commerce</td>\n",
              "      <td>Sales/Marketing;Trading;Understand human behav...</td>\n",
              "      <td>Accounting Skills;Critical Thinking</td>\n",
              "      <td>75.525</td>\n",
              "      <td>No</td>\n",
              "      <td>No</td>\n",
              "      <td>Yes</td>\n",
              "      <td>Relationships manager</td>\n",
              "      <td>NaN</td>\n",
              "    </tr>\n",
              "    <tr>\n",
              "      <th>4</th>\n",
              "      <td>Aangkeeta Sarkar</td>\n",
              "      <td>Female</td>\n",
              "      <td>B.Tech</td>\n",
              "      <td>Instrumentation Engineering</td>\n",
              "      <td>Technology</td>\n",
              "      <td>\\nPLC Allen Bradley;PLC Ladder Logic;LabVIEW;B...</td>\n",
              "      <td>70.68</td>\n",
              "      <td>Yes</td>\n",
              "      <td>Extreme Productivity (Blinkist Summary)</td>\n",
              "      <td>Yes</td>\n",
              "      <td>Plant Instrumentation Engineer</td>\n",
              "      <td>NaN</td>\n",
              "    </tr>\n",
              "  </tbody>\n",
              "</table>\n",
              "</div>"
            ],
            "text/plain": [
              "  What is your name? What is your gender? What was your course in UG?  \\\n",
              "0        A.Uha Priya               Female                        B.Sc   \n",
              "1              Aadil                 Male                         B.E   \n",
              "2            Aakriti               Female                          BA   \n",
              "3     Aanchal sharma               Female                         MBA   \n",
              "4   Aangkeeta Sarkar               Female                      B.Tech   \n",
              "\n",
              "  What is your UG specialization? Major Subject (Eg; Mathematics)  \\\n",
              "0                              Computer Applications                \n",
              "1                       Computer Science Engineering                \n",
              "2                                         Psychology                \n",
              "3                                           Commerce                \n",
              "4                        Instrumentation Engineering                \n",
              "\n",
              "                            What are your interests?  \\\n",
              "0                                    Cloud computing   \n",
              "1                                         Technology   \n",
              "2                         Understand human behaviour   \n",
              "3  Sales/Marketing;Trading;Understand human behav...   \n",
              "4                                         Technology   \n",
              "\n",
              "  What are your skills ? (Select multiple if necessary)  \\\n",
              "0                                    Python;SQL;Java      \n",
              "1  Critical Thinking, Analytic Thinking, SQL, Pro...      \n",
              "2             People management;Communication skills      \n",
              "3                Accounting Skills;Critical Thinking      \n",
              "4  \\nPLC Allen Bradley;PLC Ladder Logic;LabVIEW;B...      \n",
              "\n",
              "  What was the average CGPA or Percentage obtained in under graduation?  \\\n",
              "0                                                 85                      \n",
              "1                                               66.5                      \n",
              "2                                               64.6                      \n",
              "3                                             75.525                      \n",
              "4                                              70.68                      \n",
              "\n",
              "  Did you do any certification courses additionally?  \\\n",
              "0                                                Yes   \n",
              "1                                                Yes   \n",
              "2                                                Yes   \n",
              "3                                                 No   \n",
              "4                                                Yes   \n",
              "\n",
              "  If yes, please specify your certificate course title. Are you working?  \\\n",
              "0                                          Linux,Git                 Yes   \n",
              "1                           Microsoft certification                  Yes   \n",
              "2                              Resilience psychology                  No   \n",
              "3                                                 No                 Yes   \n",
              "4            Extreme Productivity (Blinkist Summary)                 Yes   \n",
              "\n",
              "  If yes, then what is/was your first Job title in your current field of work? If not applicable, write NA.                 \\\n",
              "0                                           Software                                                                         \n",
              "1                         Computer Software Engineer                                                                         \n",
              "2                                                NaN                                                                         \n",
              "3                              Relationships manager                                                                         \n",
              "4                     Plant Instrumentation Engineer                                                                         \n",
              "\n",
              "  Have you done masters after undergraduation? If yes, mention your field of masters.(Eg; Masters in Mathematics)  \n",
              "0                                                MCA                                                               \n",
              "1                                                NaN                                                               \n",
              "2                                                NaN                                                               \n",
              "3                                                NaN                                                               \n",
              "4                                                NaN                                                               "
            ]
          },
          "execution_count": 12,
          "metadata": {},
          "output_type": "execute_result"
        }
      ],
      "source": [
        "df_test.head()"
      ]
    },
    {
      "cell_type": "code",
      "execution_count": 13,
      "metadata": {
        "colab": {
          "base_uri": "https://localhost:8080/"
        },
        "id": "-3agvetgnhsu",
        "outputId": "1d9c3e47-17e0-4a4e-8443-39d9e8ef41d6"
      },
      "outputs": [
        {
          "data": {
            "text/plain": [
              "What is your name?                                                                                                            0\n",
              "What is your gender?                                                                                                          0\n",
              "What was your course in UG?                                                                                                   0\n",
              "What is your UG specialization? Major Subject (Eg; Mathematics)                                                               0\n",
              "What are your interests?                                                                                                      0\n",
              "What are your skills ? (Select multiple if necessary)                                                                         1\n",
              "What was the average CGPA or Percentage obtained in under graduation?                                                         0\n",
              "Did you do any certification courses additionally?                                                                            0\n",
              "If yes, please specify your certificate course title.                                                                         1\n",
              "Are you working?                                                                                                              0\n",
              "If yes, then what is/was your first Job title in your current field of work? If not applicable, write NA.                   296\n",
              "Have you done masters after undergraduation? If yes, mention your field of masters.(Eg; Masters in Mathematics)             726\n",
              "dtype: int64"
            ]
          },
          "execution_count": 13,
          "metadata": {},
          "output_type": "execute_result"
        }
      ],
      "source": [
        "df_test.isnull().sum()"
      ]
    },
    {
      "cell_type": "code",
      "execution_count": 14,
      "metadata": {
        "colab": {
          "base_uri": "https://localhost:8080/"
        },
        "id": "SuvBW-GGnjDo",
        "outputId": "b69d26fb-7de8-4fe7-c4bc-1fc2eda64b06"
      },
      "outputs": [
        {
          "data": {
            "text/plain": [
              "0    NO\n",
              "Name: What are your skills ? (Select multiple if necessary), dtype: object"
            ]
          },
          "execution_count": 14,
          "metadata": {},
          "output_type": "execute_result"
        }
      ],
      "source": [
        "df_test['What are your skills ? (Select multiple if necessary)'].mode()"
      ]
    },
    {
      "cell_type": "markdown",
      "metadata": {
        "id": "KSmOjmpjseNC"
      },
      "source": [
        "# New Section"
      ]
    },
    {
      "cell_type": "code",
      "execution_count": 15,
      "metadata": {
        "id": "QeSg1Hpxnlg4"
      },
      "outputs": [],
      "source": [
        "df_test['What are your skills ? (Select multiple if necessary)'].fillna(df_test['What are your skills ? (Select multiple if necessary)'].mode()[0],inplace=True)"
      ]
    },
    {
      "cell_type": "code",
      "execution_count": 16,
      "metadata": {
        "colab": {
          "base_uri": "https://localhost:8080/"
        },
        "id": "NKStjwlMnm3N",
        "outputId": "ea62cd9e-29df-4b3c-d249-92fde9351eab"
      },
      "outputs": [
        {
          "data": {
            "text/plain": [
              "0    Student (Unemployed)\n",
              "Name: If yes, then what is/was your first Job title in your current field of work? If not applicable, write NA.               , dtype: object"
            ]
          },
          "execution_count": 16,
          "metadata": {},
          "output_type": "execute_result"
        }
      ],
      "source": [
        "df_test['If yes, then what is/was your first Job title in your current field of work? If not applicable, write NA.               '].mode()"
      ]
    },
    {
      "cell_type": "code",
      "execution_count": 17,
      "metadata": {
        "id": "XxQZoYBTnoPm"
      },
      "outputs": [],
      "source": [
        "df_test['If yes, then what is/was your first Job title in your current field of work? If not applicable, write NA.               '].fillna(df_test['If yes, then what is/was your first Job title in your current field of work? If not applicable, write NA.               '].mode()[0],inplace=True)"
      ]
    },
    {
      "cell_type": "code",
      "execution_count": 18,
      "metadata": {
        "colab": {
          "base_uri": "https://localhost:8080/"
        },
        "id": "hGu3WbcqnqJS",
        "outputId": "b08b1248-ba56-4c0f-a4b8-ab32db9ac88c"
      },
      "outputs": [
        {
          "data": {
            "text/plain": [
              "0    Masters in Business Administration\n",
              "Name: Have you done masters after undergraduation? If yes, mention your field of masters.(Eg; Masters in Mathematics), dtype: object"
            ]
          },
          "execution_count": 18,
          "metadata": {},
          "output_type": "execute_result"
        }
      ],
      "source": [
        "df_test['Have you done masters after undergraduation? If yes, mention your field of masters.(Eg; Masters in Mathematics)'].mode()"
      ]
    },
    {
      "cell_type": "code",
      "execution_count": 19,
      "metadata": {
        "id": "f3mmjGN3nr7o"
      },
      "outputs": [],
      "source": [
        "df_test['Have you done masters after undergraduation? If yes, mention your field of masters.(Eg; Masters in Mathematics)'].fillna(df_test['Have you done masters after undergraduation? If yes, mention your field of masters.(Eg; Masters in Mathematics)'].mode()[0],inplace=True)"
      ]
    },
    {
      "cell_type": "code",
      "execution_count": 20,
      "metadata": {
        "colab": {
          "base_uri": "https://localhost:8080/"
        },
        "id": "N_n0rqOFnt5O",
        "outputId": "ecc2ef7a-5998-4cce-dab0-690e44315704"
      },
      "outputs": [
        {
          "data": {
            "text/plain": [
              "What is your name?                                                                                                          0\n",
              "What is your gender?                                                                                                        0\n",
              "What was your course in UG?                                                                                                 0\n",
              "What is your UG specialization? Major Subject (Eg; Mathematics)                                                             0\n",
              "What are your interests?                                                                                                    0\n",
              "What are your skills ? (Select multiple if necessary)                                                                       0\n",
              "What was the average CGPA or Percentage obtained in under graduation?                                                       0\n",
              "Did you do any certification courses additionally?                                                                          0\n",
              "If yes, please specify your certificate course title.                                                                       1\n",
              "Are you working?                                                                                                            0\n",
              "If yes, then what is/was your first Job title in your current field of work? If not applicable, write NA.                   0\n",
              "Have you done masters after undergraduation? If yes, mention your field of masters.(Eg; Masters in Mathematics)             0\n",
              "dtype: int64"
            ]
          },
          "execution_count": 20,
          "metadata": {},
          "output_type": "execute_result"
        }
      ],
      "source": [
        "df_test.isnull().sum()"
      ]
    },
    {
      "cell_type": "code",
      "execution_count": 21,
      "metadata": {
        "id": "ggPw8FcqnvTu"
      },
      "outputs": [],
      "source": [
        "column_dict= {'What is your name?': 'Name',\n",
        "               'What is your gender?': 'Gender',\n",
        "               'What was your course in UG?': 'Course',\n",
        "               'What is your UG specialization? Major Subject (Eg; Mathematics)': 'Specialization',\n",
        "               'What are your interests?': 'Interest',\n",
        "               'What are your skills ? (Select multiple if necessary)': 'Skills',\n",
        "               'What was the average CGPA or Percentage obtained in under graduation?': 'Grades',\n",
        "               'Did you do any certification courses additionally?': 'Any_Add_Cert_Courses',\n",
        "               'If yes, please specify your certificate course title.': 'Cert_Courses_Desc',\n",
        "               'Are you working?': 'Working?',\n",
        "               'If yes, then what is/was your first Job title in your current field of work? If not applicable, write NA.               ': 'Job_Title',\n",
        "               'Have you done masters after undergraduation? If yes, mention your field of masters.(Eg; Masters in Mathematics)': 'Masters_Desc'}\n",
        "\n",
        "# Rename the columns using the dictionary\n",
        "df_test = df_test.rename(columns=column_dict)"
      ]
    },
    {
      "cell_type": "code",
      "execution_count": 22,
      "metadata": {
        "colab": {
          "base_uri": "https://localhost:8080/"
        },
        "id": "crLDAtCqn4uk",
        "outputId": "34e465af-b7aa-451d-8cd8-e6abe17cb381"
      },
      "outputs": [
        {
          "name": "stdout",
          "output_type": "stream",
          "text": [
            "Index(['Name', 'Gender', 'Course', 'Specialization', 'Interest', 'Skills',\n",
            "       'Grades', 'Any_Add_Cert_Courses', 'Cert_Courses_Desc', 'Working?',\n",
            "       'Job_Title', 'Masters_Desc'],\n",
            "      dtype='object')\n"
          ]
        }
      ],
      "source": [
        "print(df_test.columns)"
      ]
    },
    {
      "cell_type": "code",
      "execution_count": 23,
      "metadata": {
        "id": "v2ZiZ6szn6N2"
      },
      "outputs": [],
      "source": [
        "df_test.drop(['Name', 'Specialization', 'Any_Add_Cert_Courses', 'Cert_Courses_Desc', 'Working?', 'Job_Title', 'Masters_Desc'], axis=1, inplace=True)"
      ]
    },
    {
      "cell_type": "code",
      "execution_count": 24,
      "metadata": {
        "colab": {
          "base_uri": "https://localhost:8080/"
        },
        "id": "U0fMof5mn7pq",
        "outputId": "b9e818ba-ac19-4c2a-9c49-1666963db516"
      },
      "outputs": [
        {
          "name": "stdout",
          "output_type": "stream",
          "text": [
            "Index(['Gender', 'Course', 'Interest', 'Skills', 'Grades'], dtype='object')\n"
          ]
        }
      ],
      "source": [
        "print(df_test.columns)"
      ]
    },
    {
      "cell_type": "code",
      "execution_count": 26,
      "metadata": {
        "id": "jSgEMe_In-Xi"
      },
      "outputs": [],
      "source": [
        "import klib"
      ]
    },
    {
      "cell_type": "code",
      "execution_count": 27,
      "metadata": {
        "colab": {
          "base_uri": "https://localhost:8080/",
          "height": 423
        },
        "id": "yVvqPph9oi5u",
        "outputId": "3e9896ad-c199-4e9e-a5cb-b58264fa717c"
      },
      "outputs": [
        {
          "data": {
            "text/html": [
              "<div>\n",
              "<style scoped>\n",
              "    .dataframe tbody tr th:only-of-type {\n",
              "        vertical-align: middle;\n",
              "    }\n",
              "\n",
              "    .dataframe tbody tr th {\n",
              "        vertical-align: top;\n",
              "    }\n",
              "\n",
              "    .dataframe thead th {\n",
              "        text-align: right;\n",
              "    }\n",
              "</style>\n",
              "<table border=\"1\" class=\"dataframe\">\n",
              "  <thead>\n",
              "    <tr style=\"text-align: right;\">\n",
              "      <th></th>\n",
              "      <th>Gender</th>\n",
              "      <th>Course</th>\n",
              "      <th>Interest</th>\n",
              "      <th>Skills</th>\n",
              "      <th>Grades</th>\n",
              "    </tr>\n",
              "  </thead>\n",
              "  <tbody>\n",
              "    <tr>\n",
              "      <th>0</th>\n",
              "      <td>Female</td>\n",
              "      <td>B.Sc</td>\n",
              "      <td>Cloud computing</td>\n",
              "      <td>Python;SQL;Java</td>\n",
              "      <td>85</td>\n",
              "    </tr>\n",
              "    <tr>\n",
              "      <th>1</th>\n",
              "      <td>Male</td>\n",
              "      <td>B.E</td>\n",
              "      <td>Technology</td>\n",
              "      <td>Critical Thinking, Analytic Thinking, SQL, Pro...</td>\n",
              "      <td>66.5</td>\n",
              "    </tr>\n",
              "    <tr>\n",
              "      <th>2</th>\n",
              "      <td>Female</td>\n",
              "      <td>BA</td>\n",
              "      <td>Understand human behaviour</td>\n",
              "      <td>People management;Communication skills</td>\n",
              "      <td>64.6</td>\n",
              "    </tr>\n",
              "    <tr>\n",
              "      <th>3</th>\n",
              "      <td>Female</td>\n",
              "      <td>MBA</td>\n",
              "      <td>Sales/Marketing;Trading;Understand human behav...</td>\n",
              "      <td>Accounting Skills;Critical Thinking</td>\n",
              "      <td>75.525</td>\n",
              "    </tr>\n",
              "    <tr>\n",
              "      <th>4</th>\n",
              "      <td>Female</td>\n",
              "      <td>B.Tech</td>\n",
              "      <td>Technology</td>\n",
              "      <td>PLC Allen Bradley;PLC Ladder Logic;LabVIEW;Bu...</td>\n",
              "      <td>70.68</td>\n",
              "    </tr>\n",
              "    <tr>\n",
              "      <th>...</th>\n",
              "      <td>...</td>\n",
              "      <td>...</td>\n",
              "      <td>...</td>\n",
              "      <td>...</td>\n",
              "      <td>...</td>\n",
              "    </tr>\n",
              "    <tr>\n",
              "      <th>1190</th>\n",
              "      <td>Male</td>\n",
              "      <td>B.Tech</td>\n",
              "      <td>Technology</td>\n",
              "      <td>Python, SQL, Oracle</td>\n",
              "      <td>72.2</td>\n",
              "    </tr>\n",
              "    <tr>\n",
              "      <th>1191</th>\n",
              "      <td>Male</td>\n",
              "      <td>B.Sc</td>\n",
              "      <td>Technology</td>\n",
              "      <td>SQL, Problem Solving skills</td>\n",
              "      <td>80.75</td>\n",
              "    </tr>\n",
              "    <tr>\n",
              "      <th>1192</th>\n",
              "      <td>Male</td>\n",
              "      <td>B.Tech</td>\n",
              "      <td>Technology;Content Writing</td>\n",
              "      <td>Programming Language skills;Critical Thinking;...</td>\n",
              "      <td>59.22</td>\n",
              "    </tr>\n",
              "    <tr>\n",
              "      <th>1193</th>\n",
              "      <td>Male</td>\n",
              "      <td>BE</td>\n",
              "      <td>Financial Analysis, Technology</td>\n",
              "      <td>AI, Java, SQL, C++, R, Linux</td>\n",
              "      <td>57</td>\n",
              "    </tr>\n",
              "    <tr>\n",
              "      <th>1194</th>\n",
              "      <td>Male</td>\n",
              "      <td>B.Sc</td>\n",
              "      <td>Animation</td>\n",
              "      <td>2D/3D Animation</td>\n",
              "      <td>76.285</td>\n",
              "    </tr>\n",
              "  </tbody>\n",
              "</table>\n",
              "<p>1195 rows × 5 columns</p>\n",
              "</div>"
            ],
            "text/plain": [
              "      Gender  Course                                           Interest  \\\n",
              "0     Female    B.Sc                                    Cloud computing   \n",
              "1       Male     B.E                                         Technology   \n",
              "2     Female      BA                         Understand human behaviour   \n",
              "3     Female     MBA  Sales/Marketing;Trading;Understand human behav...   \n",
              "4     Female  B.Tech                                         Technology   \n",
              "...      ...     ...                                                ...   \n",
              "1190    Male  B.Tech                                         Technology   \n",
              "1191    Male    B.Sc                                         Technology   \n",
              "1192    Male  B.Tech                         Technology;Content Writing   \n",
              "1193    Male      BE                     Financial Analysis, Technology   \n",
              "1194    Male    B.Sc                                          Animation   \n",
              "\n",
              "                                                 Skills  Grades  \n",
              "0                                       Python;SQL;Java      85  \n",
              "1     Critical Thinking, Analytic Thinking, SQL, Pro...    66.5  \n",
              "2                People management;Communication skills    64.6  \n",
              "3                   Accounting Skills;Critical Thinking  75.525  \n",
              "4     \n",
              "PLC Allen Bradley;PLC Ladder Logic;LabVIEW;Bu...   70.68  \n",
              "...                                                 ...     ...  \n",
              "1190                                Python, SQL, Oracle    72.2  \n",
              "1191                        SQL, Problem Solving skills   80.75  \n",
              "1192  Programming Language skills;Critical Thinking;...   59.22  \n",
              "1193                       AI, Java, SQL, C++, R, Linux      57  \n",
              "1194                                    2D/3D Animation  76.285  \n",
              "\n",
              "[1195 rows x 5 columns]"
            ]
          },
          "execution_count": 27,
          "metadata": {},
          "output_type": "execute_result"
        }
      ],
      "source": [
        "klib.convert_datatypes(df_test)"
      ]
    },
    {
      "cell_type": "code",
      "execution_count": 28,
      "metadata": {
        "colab": {
          "base_uri": "https://localhost:8080/",
          "height": 423
        },
        "id": "hazhQ7EColOJ",
        "outputId": "743bf913-2b0a-4a3f-e2fc-bfa4a6097aa6"
      },
      "outputs": [
        {
          "data": {
            "text/html": [
              "<div>\n",
              "<style scoped>\n",
              "    .dataframe tbody tr th:only-of-type {\n",
              "        vertical-align: middle;\n",
              "    }\n",
              "\n",
              "    .dataframe tbody tr th {\n",
              "        vertical-align: top;\n",
              "    }\n",
              "\n",
              "    .dataframe thead th {\n",
              "        text-align: right;\n",
              "    }\n",
              "</style>\n",
              "<table border=\"1\" class=\"dataframe\">\n",
              "  <thead>\n",
              "    <tr style=\"text-align: right;\">\n",
              "      <th></th>\n",
              "      <th>gender</th>\n",
              "      <th>course</th>\n",
              "      <th>interest</th>\n",
              "      <th>skills</th>\n",
              "      <th>grades</th>\n",
              "    </tr>\n",
              "  </thead>\n",
              "  <tbody>\n",
              "    <tr>\n",
              "      <th>0</th>\n",
              "      <td>Female</td>\n",
              "      <td>B.Sc</td>\n",
              "      <td>Cloud computing</td>\n",
              "      <td>Python;SQL;Java</td>\n",
              "      <td>85</td>\n",
              "    </tr>\n",
              "    <tr>\n",
              "      <th>1</th>\n",
              "      <td>Male</td>\n",
              "      <td>B.E</td>\n",
              "      <td>Technology</td>\n",
              "      <td>Critical Thinking, Analytic Thinking, SQL, Pro...</td>\n",
              "      <td>66.5</td>\n",
              "    </tr>\n",
              "    <tr>\n",
              "      <th>2</th>\n",
              "      <td>Female</td>\n",
              "      <td>BA</td>\n",
              "      <td>Understand human behaviour</td>\n",
              "      <td>People management;Communication skills</td>\n",
              "      <td>64.6</td>\n",
              "    </tr>\n",
              "    <tr>\n",
              "      <th>3</th>\n",
              "      <td>Female</td>\n",
              "      <td>MBA</td>\n",
              "      <td>Sales/Marketing;Trading;Understand human behav...</td>\n",
              "      <td>Accounting Skills;Critical Thinking</td>\n",
              "      <td>75.525</td>\n",
              "    </tr>\n",
              "    <tr>\n",
              "      <th>4</th>\n",
              "      <td>Female</td>\n",
              "      <td>B.Tech</td>\n",
              "      <td>Technology</td>\n",
              "      <td>\\nPLC Allen Bradley;PLC Ladder Logic;LabVIEW;B...</td>\n",
              "      <td>70.68</td>\n",
              "    </tr>\n",
              "    <tr>\n",
              "      <th>...</th>\n",
              "      <td>...</td>\n",
              "      <td>...</td>\n",
              "      <td>...</td>\n",
              "      <td>...</td>\n",
              "      <td>...</td>\n",
              "    </tr>\n",
              "    <tr>\n",
              "      <th>1190</th>\n",
              "      <td>Male</td>\n",
              "      <td>B.Tech</td>\n",
              "      <td>Technology</td>\n",
              "      <td>Python, SQL, Oracle</td>\n",
              "      <td>72.2</td>\n",
              "    </tr>\n",
              "    <tr>\n",
              "      <th>1191</th>\n",
              "      <td>Male</td>\n",
              "      <td>B.Sc</td>\n",
              "      <td>Technology</td>\n",
              "      <td>SQL, Problem Solving skills</td>\n",
              "      <td>80.75</td>\n",
              "    </tr>\n",
              "    <tr>\n",
              "      <th>1192</th>\n",
              "      <td>Male</td>\n",
              "      <td>B.Tech</td>\n",
              "      <td>Technology;Content Writing</td>\n",
              "      <td>Programming Language skills;Critical Thinking;...</td>\n",
              "      <td>59.22</td>\n",
              "    </tr>\n",
              "    <tr>\n",
              "      <th>1193</th>\n",
              "      <td>Male</td>\n",
              "      <td>BE</td>\n",
              "      <td>Financial Analysis, Technology</td>\n",
              "      <td>AI, Java, SQL, C++, R, Linux</td>\n",
              "      <td>57</td>\n",
              "    </tr>\n",
              "    <tr>\n",
              "      <th>1194</th>\n",
              "      <td>Male</td>\n",
              "      <td>B.Sc</td>\n",
              "      <td>Animation</td>\n",
              "      <td>2D/3D Animation</td>\n",
              "      <td>76.285</td>\n",
              "    </tr>\n",
              "  </tbody>\n",
              "</table>\n",
              "<p>1195 rows × 5 columns</p>\n",
              "</div>"
            ],
            "text/plain": [
              "      gender  course                                           interest  \\\n",
              "0     Female    B.Sc                                    Cloud computing   \n",
              "1       Male     B.E                                         Technology   \n",
              "2     Female      BA                         Understand human behaviour   \n",
              "3     Female     MBA  Sales/Marketing;Trading;Understand human behav...   \n",
              "4     Female  B.Tech                                         Technology   \n",
              "...      ...     ...                                                ...   \n",
              "1190    Male  B.Tech                                         Technology   \n",
              "1191    Male    B.Sc                                         Technology   \n",
              "1192    Male  B.Tech                         Technology;Content Writing   \n",
              "1193    Male      BE                     Financial Analysis, Technology   \n",
              "1194    Male    B.Sc                                          Animation   \n",
              "\n",
              "                                                 skills  grades  \n",
              "0                                       Python;SQL;Java      85  \n",
              "1     Critical Thinking, Analytic Thinking, SQL, Pro...    66.5  \n",
              "2                People management;Communication skills    64.6  \n",
              "3                   Accounting Skills;Critical Thinking  75.525  \n",
              "4     \\nPLC Allen Bradley;PLC Ladder Logic;LabVIEW;B...   70.68  \n",
              "...                                                 ...     ...  \n",
              "1190                                Python, SQL, Oracle    72.2  \n",
              "1191                        SQL, Problem Solving skills   80.75  \n",
              "1192  Programming Language skills;Critical Thinking;...   59.22  \n",
              "1193                       AI, Java, SQL, C++, R, Linux      57  \n",
              "1194                                    2D/3D Animation  76.285  \n",
              "\n",
              "[1195 rows x 5 columns]"
            ]
          },
          "execution_count": 28,
          "metadata": {},
          "output_type": "execute_result"
        }
      ],
      "source": [
        "klib.clean_column_names(df_test)"
      ]
    },
    {
      "cell_type": "code",
      "execution_count": 29,
      "metadata": {
        "colab": {
          "base_uri": "https://localhost:8080/",
          "height": 614
        },
        "id": "kXRJexGoomcU",
        "outputId": "6b37b34b-8ddc-4fe7-f959-b7ffddda3620"
      },
      "outputs": [
        {
          "name": "stdout",
          "output_type": "stream",
          "text": [
            "Shape of cleaned data: (1180, 5) - Remaining NAs: 0\n",
            "\n",
            "\n",
            "Dropped rows: 15\n",
            "     of which 15 duplicates. (Rows (first 150 shown): [167, 293, 412, 446, 500, 629, 635, 694, 777, 863, 924, 1000, 1078, 1093, 1139])\n",
            "\n",
            "Dropped columns: 0\n",
            "     of which 0 single valued.     Columns: []\n",
            "Dropped missing values: 0\n",
            "Reduced memory by at least: 0.01 MB (-20.0%)\n",
            "\n"
          ]
        },
        {
          "data": {
            "text/html": [
              "<div>\n",
              "<style scoped>\n",
              "    .dataframe tbody tr th:only-of-type {\n",
              "        vertical-align: middle;\n",
              "    }\n",
              "\n",
              "    .dataframe tbody tr th {\n",
              "        vertical-align: top;\n",
              "    }\n",
              "\n",
              "    .dataframe thead th {\n",
              "        text-align: right;\n",
              "    }\n",
              "</style>\n",
              "<table border=\"1\" class=\"dataframe\">\n",
              "  <thead>\n",
              "    <tr style=\"text-align: right;\">\n",
              "      <th></th>\n",
              "      <th>gender</th>\n",
              "      <th>course</th>\n",
              "      <th>interest</th>\n",
              "      <th>skills</th>\n",
              "      <th>grades</th>\n",
              "    </tr>\n",
              "  </thead>\n",
              "  <tbody>\n",
              "    <tr>\n",
              "      <th>0</th>\n",
              "      <td>Female</td>\n",
              "      <td>B.Sc</td>\n",
              "      <td>Cloud computing</td>\n",
              "      <td>Python;SQL;Java</td>\n",
              "      <td>85</td>\n",
              "    </tr>\n",
              "    <tr>\n",
              "      <th>1</th>\n",
              "      <td>Male</td>\n",
              "      <td>B.E</td>\n",
              "      <td>Technology</td>\n",
              "      <td>Critical Thinking, Analytic Thinking, SQL, Pro...</td>\n",
              "      <td>66.5</td>\n",
              "    </tr>\n",
              "    <tr>\n",
              "      <th>2</th>\n",
              "      <td>Female</td>\n",
              "      <td>BA</td>\n",
              "      <td>Understand human behaviour</td>\n",
              "      <td>People management;Communication skills</td>\n",
              "      <td>64.6</td>\n",
              "    </tr>\n",
              "    <tr>\n",
              "      <th>3</th>\n",
              "      <td>Female</td>\n",
              "      <td>MBA</td>\n",
              "      <td>Sales/Marketing;Trading;Understand human behav...</td>\n",
              "      <td>Accounting Skills;Critical Thinking</td>\n",
              "      <td>75.525</td>\n",
              "    </tr>\n",
              "    <tr>\n",
              "      <th>4</th>\n",
              "      <td>Female</td>\n",
              "      <td>B.Tech</td>\n",
              "      <td>Technology</td>\n",
              "      <td>PLC Allen Bradley;PLC Ladder Logic;LabVIEW;Bu...</td>\n",
              "      <td>70.68</td>\n",
              "    </tr>\n",
              "    <tr>\n",
              "      <th>...</th>\n",
              "      <td>...</td>\n",
              "      <td>...</td>\n",
              "      <td>...</td>\n",
              "      <td>...</td>\n",
              "      <td>...</td>\n",
              "    </tr>\n",
              "    <tr>\n",
              "      <th>1175</th>\n",
              "      <td>Male</td>\n",
              "      <td>B.Tech</td>\n",
              "      <td>Technology</td>\n",
              "      <td>Python, SQL, Oracle</td>\n",
              "      <td>72.2</td>\n",
              "    </tr>\n",
              "    <tr>\n",
              "      <th>1176</th>\n",
              "      <td>Male</td>\n",
              "      <td>B.Sc</td>\n",
              "      <td>Technology</td>\n",
              "      <td>SQL, Problem Solving skills</td>\n",
              "      <td>80.75</td>\n",
              "    </tr>\n",
              "    <tr>\n",
              "      <th>1177</th>\n",
              "      <td>Male</td>\n",
              "      <td>B.Tech</td>\n",
              "      <td>Technology;Content Writing</td>\n",
              "      <td>Programming Language skills;Critical Thinking;...</td>\n",
              "      <td>59.22</td>\n",
              "    </tr>\n",
              "    <tr>\n",
              "      <th>1178</th>\n",
              "      <td>Male</td>\n",
              "      <td>BE</td>\n",
              "      <td>Financial Analysis, Technology</td>\n",
              "      <td>AI, Java, SQL, C++, R, Linux</td>\n",
              "      <td>57</td>\n",
              "    </tr>\n",
              "    <tr>\n",
              "      <th>1179</th>\n",
              "      <td>Male</td>\n",
              "      <td>B.Sc</td>\n",
              "      <td>Animation</td>\n",
              "      <td>2D/3D Animation</td>\n",
              "      <td>76.285</td>\n",
              "    </tr>\n",
              "  </tbody>\n",
              "</table>\n",
              "<p>1180 rows × 5 columns</p>\n",
              "</div>"
            ],
            "text/plain": [
              "      gender  course                                           interest  \\\n",
              "0     Female    B.Sc                                    Cloud computing   \n",
              "1       Male     B.E                                         Technology   \n",
              "2     Female      BA                         Understand human behaviour   \n",
              "3     Female     MBA  Sales/Marketing;Trading;Understand human behav...   \n",
              "4     Female  B.Tech                                         Technology   \n",
              "...      ...     ...                                                ...   \n",
              "1175    Male  B.Tech                                         Technology   \n",
              "1176    Male    B.Sc                                         Technology   \n",
              "1177    Male  B.Tech                         Technology;Content Writing   \n",
              "1178    Male      BE                     Financial Analysis, Technology   \n",
              "1179    Male    B.Sc                                          Animation   \n",
              "\n",
              "                                                 skills  grades  \n",
              "0                                       Python;SQL;Java      85  \n",
              "1     Critical Thinking, Analytic Thinking, SQL, Pro...    66.5  \n",
              "2                People management;Communication skills    64.6  \n",
              "3                   Accounting Skills;Critical Thinking  75.525  \n",
              "4     \n",
              "PLC Allen Bradley;PLC Ladder Logic;LabVIEW;Bu...   70.68  \n",
              "...                                                 ...     ...  \n",
              "1175                                Python, SQL, Oracle    72.2  \n",
              "1176                        SQL, Problem Solving skills   80.75  \n",
              "1177  Programming Language skills;Critical Thinking;...   59.22  \n",
              "1178                       AI, Java, SQL, C++, R, Linux      57  \n",
              "1179                                    2D/3D Animation  76.285  \n",
              "\n",
              "[1180 rows x 5 columns]"
            ]
          },
          "execution_count": 29,
          "metadata": {},
          "output_type": "execute_result"
        }
      ],
      "source": [
        "klib.data_cleaning(df_test)"
      ]
    },
    {
      "cell_type": "code",
      "execution_count": 30,
      "metadata": {
        "colab": {
          "base_uri": "https://localhost:8080/",
          "height": 423
        },
        "id": "DFNT2TJ7on2z",
        "outputId": "c4a3fb63-1134-4b91-b357-9d99b388cd3f"
      },
      "outputs": [
        {
          "data": {
            "text/html": [
              "<div>\n",
              "<style scoped>\n",
              "    .dataframe tbody tr th:only-of-type {\n",
              "        vertical-align: middle;\n",
              "    }\n",
              "\n",
              "    .dataframe tbody tr th {\n",
              "        vertical-align: top;\n",
              "    }\n",
              "\n",
              "    .dataframe thead th {\n",
              "        text-align: right;\n",
              "    }\n",
              "</style>\n",
              "<table border=\"1\" class=\"dataframe\">\n",
              "  <thead>\n",
              "    <tr style=\"text-align: right;\">\n",
              "      <th></th>\n",
              "      <th>gender</th>\n",
              "      <th>course</th>\n",
              "      <th>interest</th>\n",
              "      <th>skills</th>\n",
              "      <th>grades</th>\n",
              "    </tr>\n",
              "  </thead>\n",
              "  <tbody>\n",
              "    <tr>\n",
              "      <th>0</th>\n",
              "      <td>Female</td>\n",
              "      <td>B.Sc</td>\n",
              "      <td>Cloud computing</td>\n",
              "      <td>Python;SQL;Java</td>\n",
              "      <td>85</td>\n",
              "    </tr>\n",
              "    <tr>\n",
              "      <th>1</th>\n",
              "      <td>Male</td>\n",
              "      <td>B.E</td>\n",
              "      <td>Technology</td>\n",
              "      <td>Critical Thinking, Analytic Thinking, SQL, Pro...</td>\n",
              "      <td>66.5</td>\n",
              "    </tr>\n",
              "    <tr>\n",
              "      <th>2</th>\n",
              "      <td>Female</td>\n",
              "      <td>BA</td>\n",
              "      <td>Understand human behaviour</td>\n",
              "      <td>People management;Communication skills</td>\n",
              "      <td>64.6</td>\n",
              "    </tr>\n",
              "    <tr>\n",
              "      <th>3</th>\n",
              "      <td>Female</td>\n",
              "      <td>MBA</td>\n",
              "      <td>Sales/Marketing;Trading;Understand human behav...</td>\n",
              "      <td>Accounting Skills;Critical Thinking</td>\n",
              "      <td>75.525</td>\n",
              "    </tr>\n",
              "    <tr>\n",
              "      <th>4</th>\n",
              "      <td>Female</td>\n",
              "      <td>B.Tech</td>\n",
              "      <td>Technology</td>\n",
              "      <td>\\nPLC Allen Bradley;PLC Ladder Logic;LabVIEW;B...</td>\n",
              "      <td>70.68</td>\n",
              "    </tr>\n",
              "    <tr>\n",
              "      <th>...</th>\n",
              "      <td>...</td>\n",
              "      <td>...</td>\n",
              "      <td>...</td>\n",
              "      <td>...</td>\n",
              "      <td>...</td>\n",
              "    </tr>\n",
              "    <tr>\n",
              "      <th>1190</th>\n",
              "      <td>Male</td>\n",
              "      <td>B.Tech</td>\n",
              "      <td>Technology</td>\n",
              "      <td>Python, SQL, Oracle</td>\n",
              "      <td>72.2</td>\n",
              "    </tr>\n",
              "    <tr>\n",
              "      <th>1191</th>\n",
              "      <td>Male</td>\n",
              "      <td>B.Sc</td>\n",
              "      <td>Technology</td>\n",
              "      <td>SQL, Problem Solving skills</td>\n",
              "      <td>80.75</td>\n",
              "    </tr>\n",
              "    <tr>\n",
              "      <th>1192</th>\n",
              "      <td>Male</td>\n",
              "      <td>B.Tech</td>\n",
              "      <td>Technology;Content Writing</td>\n",
              "      <td>Programming Language skills;Critical Thinking;...</td>\n",
              "      <td>59.22</td>\n",
              "    </tr>\n",
              "    <tr>\n",
              "      <th>1193</th>\n",
              "      <td>Male</td>\n",
              "      <td>BE</td>\n",
              "      <td>Financial Analysis, Technology</td>\n",
              "      <td>AI, Java, SQL, C++, R, Linux</td>\n",
              "      <td>57</td>\n",
              "    </tr>\n",
              "    <tr>\n",
              "      <th>1194</th>\n",
              "      <td>Male</td>\n",
              "      <td>B.Sc</td>\n",
              "      <td>Animation</td>\n",
              "      <td>2D/3D Animation</td>\n",
              "      <td>76.285</td>\n",
              "    </tr>\n",
              "  </tbody>\n",
              "</table>\n",
              "<p>1195 rows × 5 columns</p>\n",
              "</div>"
            ],
            "text/plain": [
              "      gender  course                                           interest  \\\n",
              "0     Female    B.Sc                                    Cloud computing   \n",
              "1       Male     B.E                                         Technology   \n",
              "2     Female      BA                         Understand human behaviour   \n",
              "3     Female     MBA  Sales/Marketing;Trading;Understand human behav...   \n",
              "4     Female  B.Tech                                         Technology   \n",
              "...      ...     ...                                                ...   \n",
              "1190    Male  B.Tech                                         Technology   \n",
              "1191    Male    B.Sc                                         Technology   \n",
              "1192    Male  B.Tech                         Technology;Content Writing   \n",
              "1193    Male      BE                     Financial Analysis, Technology   \n",
              "1194    Male    B.Sc                                          Animation   \n",
              "\n",
              "                                                 skills  grades  \n",
              "0                                       Python;SQL;Java      85  \n",
              "1     Critical Thinking, Analytic Thinking, SQL, Pro...    66.5  \n",
              "2                People management;Communication skills    64.6  \n",
              "3                   Accounting Skills;Critical Thinking  75.525  \n",
              "4     \\nPLC Allen Bradley;PLC Ladder Logic;LabVIEW;B...   70.68  \n",
              "...                                                 ...     ...  \n",
              "1190                                Python, SQL, Oracle    72.2  \n",
              "1191                        SQL, Problem Solving skills   80.75  \n",
              "1192  Programming Language skills;Critical Thinking;...   59.22  \n",
              "1193                       AI, Java, SQL, C++, R, Linux      57  \n",
              "1194                                    2D/3D Animation  76.285  \n",
              "\n",
              "[1195 rows x 5 columns]"
            ]
          },
          "execution_count": 30,
          "metadata": {},
          "output_type": "execute_result"
        }
      ],
      "source": [
        "klib.mv_col_handling(df_test)"
      ]
    },
    {
      "cell_type": "code",
      "execution_count": 31,
      "metadata": {
        "id": "uQPuTSijopaO"
      },
      "outputs": [],
      "source": [
        "from sklearn.preprocessing import LabelEncoder\n",
        "le = LabelEncoder()"
      ]
    },
    {
      "cell_type": "code",
      "execution_count": 32,
      "metadata": {
        "id": "XN2-NxnAorIo"
      },
      "outputs": [],
      "source": [
        "df_test['gender'] = le.fit_transform(df_test['gender'])\n",
        "df_test['course'] = le.fit_transform(df_test['course'])"
      ]
    },
    {
      "cell_type": "code",
      "execution_count": 33,
      "metadata": {
        "id": "kz9wCRlgosyq"
      },
      "outputs": [],
      "source": [
        "df_test['interest'] = df_test['interest'].apply(lambda x: [interest.lower().strip() for interest in x.replace(';', ',').split(',')])\n",
        "df_test['skills'] = df_test['skills'].apply(lambda x: [skill.lower().strip() for skill in x.replace(';', ',').split(',')])\n"
      ]
    },
    {
      "cell_type": "code",
      "execution_count": 34,
      "metadata": {
        "id": "leEBSUtfovlq"
      },
      "outputs": [],
      "source": [
        "from sklearn.preprocessing import MultiLabelBinarizer\n",
        "mlb = MultiLabelBinarizer()"
      ]
    },
    {
      "cell_type": "code",
      "execution_count": 35,
      "metadata": {
        "id": "loXsgo0vow8c"
      },
      "outputs": [],
      "source": [
        "mlb_interest = MultiLabelBinarizer()\n",
        "mlb_skills = MultiLabelBinarizer()\n",
        "\n",
        "# perform multihot encoding on each column separately\n",
        "encoded_interest = mlb_interest.fit_transform(df_test['interest'])\n",
        "encoded_skills = mlb_skills.fit_transform(df_test['skills'])\n",
        "\n",
        "# concatenate the encoded arrays with the original dataframe\n",
        "df_test = pd.concat([df_test, pd.DataFrame(encoded_interest, columns=mlb_interest.classes_), pd.DataFrame(encoded_skills, columns=mlb_skills.classes_)], axis=1)\n",
        "\n",
        "# remove the original columns from the encoded dataframe\n",
        "df_test.drop(['interest', 'skills'], axis=1, inplace=True)"
      ]
    },
    {
      "cell_type": "code",
      "execution_count": 36,
      "metadata": {
        "colab": {
          "base_uri": "https://localhost:8080/"
        },
        "id": "ZwgR5Or9oyIQ",
        "outputId": "6703922e-a458-4458-cf4b-bce9c0c8d03b"
      },
      "outputs": [
        {
          "data": {
            "text/plain": [
              "(1195, 665)"
            ]
          },
          "execution_count": 36,
          "metadata": {},
          "output_type": "execute_result"
        }
      ],
      "source": [
        "df_test.shape\n"
      ]
    },
    {
      "cell_type": "code",
      "execution_count": 37,
      "metadata": {
        "colab": {
          "base_uri": "https://localhost:8080/",
          "height": 513
        },
        "id": "KCwNtJLjozkG",
        "outputId": "fe06eaa9-f727-4f2d-e119-feb1ad89f671"
      },
      "outputs": [
        {
          "data": {
            "text/html": [
              "<div>\n",
              "<style scoped>\n",
              "    .dataframe tbody tr th:only-of-type {\n",
              "        vertical-align: middle;\n",
              "    }\n",
              "\n",
              "    .dataframe tbody tr th {\n",
              "        vertical-align: top;\n",
              "    }\n",
              "\n",
              "    .dataframe thead th {\n",
              "        text-align: right;\n",
              "    }\n",
              "</style>\n",
              "<table border=\"1\" class=\"dataframe\">\n",
              "  <thead>\n",
              "    <tr style=\"text-align: right;\">\n",
              "      <th></th>\n",
              "      <th>gender</th>\n",
              "      <th>course</th>\n",
              "      <th>grades</th>\n",
              "      <th></th>\n",
              "      <th>agriculture</th>\n",
              "      <th>all fields related to data science</th>\n",
              "      <th>all fields related to data science.</th>\n",
              "      <th>all fields related to data science.machine learning</th>\n",
              "      <th>analysis</th>\n",
              "      <th>animation</th>\n",
              "      <th>...</th>\n",
              "      <th>working capital management</th>\n",
              "      <th>writing</th>\n",
              "      <th>writing skills</th>\n",
              "      <th>x-ray crystallography</th>\n",
              "      <th>xcode</th>\n",
              "      <th>xilinx vivado</th>\n",
              "      <th>xml</th>\n",
              "      <th>yii2</th>\n",
              "      <th>zoho</th>\n",
              "      <th>zuul api gateway</th>\n",
              "    </tr>\n",
              "  </thead>\n",
              "  <tbody>\n",
              "    <tr>\n",
              "      <th>0</th>\n",
              "      <td>0</td>\n",
              "      <td>13</td>\n",
              "      <td>85</td>\n",
              "      <td>0</td>\n",
              "      <td>0</td>\n",
              "      <td>0</td>\n",
              "      <td>0</td>\n",
              "      <td>0</td>\n",
              "      <td>0</td>\n",
              "      <td>0</td>\n",
              "      <td>...</td>\n",
              "      <td>0</td>\n",
              "      <td>0</td>\n",
              "      <td>0</td>\n",
              "      <td>0</td>\n",
              "      <td>0</td>\n",
              "      <td>0</td>\n",
              "      <td>0</td>\n",
              "      <td>0</td>\n",
              "      <td>0</td>\n",
              "      <td>0</td>\n",
              "    </tr>\n",
              "    <tr>\n",
              "      <th>1</th>\n",
              "      <td>1</td>\n",
              "      <td>6</td>\n",
              "      <td>66.5</td>\n",
              "      <td>0</td>\n",
              "      <td>0</td>\n",
              "      <td>0</td>\n",
              "      <td>0</td>\n",
              "      <td>0</td>\n",
              "      <td>0</td>\n",
              "      <td>0</td>\n",
              "      <td>...</td>\n",
              "      <td>0</td>\n",
              "      <td>0</td>\n",
              "      <td>0</td>\n",
              "      <td>0</td>\n",
              "      <td>0</td>\n",
              "      <td>0</td>\n",
              "      <td>0</td>\n",
              "      <td>0</td>\n",
              "      <td>0</td>\n",
              "      <td>0</td>\n",
              "    </tr>\n",
              "    <tr>\n",
              "      <th>2</th>\n",
              "      <td>0</td>\n",
              "      <td>15</td>\n",
              "      <td>64.6</td>\n",
              "      <td>0</td>\n",
              "      <td>0</td>\n",
              "      <td>0</td>\n",
              "      <td>0</td>\n",
              "      <td>0</td>\n",
              "      <td>0</td>\n",
              "      <td>0</td>\n",
              "      <td>...</td>\n",
              "      <td>0</td>\n",
              "      <td>0</td>\n",
              "      <td>0</td>\n",
              "      <td>0</td>\n",
              "      <td>0</td>\n",
              "      <td>0</td>\n",
              "      <td>0</td>\n",
              "      <td>0</td>\n",
              "      <td>0</td>\n",
              "      <td>0</td>\n",
              "    </tr>\n",
              "    <tr>\n",
              "      <th>3</th>\n",
              "      <td>0</td>\n",
              "      <td>50</td>\n",
              "      <td>75.525</td>\n",
              "      <td>0</td>\n",
              "      <td>0</td>\n",
              "      <td>0</td>\n",
              "      <td>0</td>\n",
              "      <td>0</td>\n",
              "      <td>0</td>\n",
              "      <td>0</td>\n",
              "      <td>...</td>\n",
              "      <td>0</td>\n",
              "      <td>0</td>\n",
              "      <td>0</td>\n",
              "      <td>0</td>\n",
              "      <td>0</td>\n",
              "      <td>0</td>\n",
              "      <td>0</td>\n",
              "      <td>0</td>\n",
              "      <td>0</td>\n",
              "      <td>0</td>\n",
              "    </tr>\n",
              "    <tr>\n",
              "      <th>4</th>\n",
              "      <td>0</td>\n",
              "      <td>14</td>\n",
              "      <td>70.68</td>\n",
              "      <td>0</td>\n",
              "      <td>0</td>\n",
              "      <td>0</td>\n",
              "      <td>0</td>\n",
              "      <td>0</td>\n",
              "      <td>0</td>\n",
              "      <td>0</td>\n",
              "      <td>...</td>\n",
              "      <td>0</td>\n",
              "      <td>0</td>\n",
              "      <td>0</td>\n",
              "      <td>0</td>\n",
              "      <td>0</td>\n",
              "      <td>0</td>\n",
              "      <td>0</td>\n",
              "      <td>0</td>\n",
              "      <td>0</td>\n",
              "      <td>0</td>\n",
              "    </tr>\n",
              "    <tr>\n",
              "      <th>...</th>\n",
              "      <td>...</td>\n",
              "      <td>...</td>\n",
              "      <td>...</td>\n",
              "      <td>...</td>\n",
              "      <td>...</td>\n",
              "      <td>...</td>\n",
              "      <td>...</td>\n",
              "      <td>...</td>\n",
              "      <td>...</td>\n",
              "      <td>...</td>\n",
              "      <td>...</td>\n",
              "      <td>...</td>\n",
              "      <td>...</td>\n",
              "      <td>...</td>\n",
              "      <td>...</td>\n",
              "      <td>...</td>\n",
              "      <td>...</td>\n",
              "      <td>...</td>\n",
              "      <td>...</td>\n",
              "      <td>...</td>\n",
              "      <td>...</td>\n",
              "    </tr>\n",
              "    <tr>\n",
              "      <th>1190</th>\n",
              "      <td>1</td>\n",
              "      <td>14</td>\n",
              "      <td>72.2</td>\n",
              "      <td>0</td>\n",
              "      <td>0</td>\n",
              "      <td>0</td>\n",
              "      <td>0</td>\n",
              "      <td>0</td>\n",
              "      <td>0</td>\n",
              "      <td>0</td>\n",
              "      <td>...</td>\n",
              "      <td>0</td>\n",
              "      <td>0</td>\n",
              "      <td>0</td>\n",
              "      <td>0</td>\n",
              "      <td>0</td>\n",
              "      <td>0</td>\n",
              "      <td>0</td>\n",
              "      <td>0</td>\n",
              "      <td>0</td>\n",
              "      <td>0</td>\n",
              "    </tr>\n",
              "    <tr>\n",
              "      <th>1191</th>\n",
              "      <td>1</td>\n",
              "      <td>13</td>\n",
              "      <td>80.75</td>\n",
              "      <td>0</td>\n",
              "      <td>0</td>\n",
              "      <td>0</td>\n",
              "      <td>0</td>\n",
              "      <td>0</td>\n",
              "      <td>0</td>\n",
              "      <td>0</td>\n",
              "      <td>...</td>\n",
              "      <td>0</td>\n",
              "      <td>0</td>\n",
              "      <td>0</td>\n",
              "      <td>0</td>\n",
              "      <td>0</td>\n",
              "      <td>0</td>\n",
              "      <td>0</td>\n",
              "      <td>0</td>\n",
              "      <td>0</td>\n",
              "      <td>0</td>\n",
              "    </tr>\n",
              "    <tr>\n",
              "      <th>1192</th>\n",
              "      <td>1</td>\n",
              "      <td>14</td>\n",
              "      <td>59.22</td>\n",
              "      <td>0</td>\n",
              "      <td>0</td>\n",
              "      <td>0</td>\n",
              "      <td>0</td>\n",
              "      <td>0</td>\n",
              "      <td>0</td>\n",
              "      <td>0</td>\n",
              "      <td>...</td>\n",
              "      <td>0</td>\n",
              "      <td>0</td>\n",
              "      <td>0</td>\n",
              "      <td>0</td>\n",
              "      <td>0</td>\n",
              "      <td>0</td>\n",
              "      <td>0</td>\n",
              "      <td>0</td>\n",
              "      <td>0</td>\n",
              "      <td>0</td>\n",
              "    </tr>\n",
              "    <tr>\n",
              "      <th>1193</th>\n",
              "      <td>1</td>\n",
              "      <td>22</td>\n",
              "      <td>57</td>\n",
              "      <td>0</td>\n",
              "      <td>0</td>\n",
              "      <td>0</td>\n",
              "      <td>0</td>\n",
              "      <td>0</td>\n",
              "      <td>0</td>\n",
              "      <td>0</td>\n",
              "      <td>...</td>\n",
              "      <td>0</td>\n",
              "      <td>0</td>\n",
              "      <td>0</td>\n",
              "      <td>0</td>\n",
              "      <td>0</td>\n",
              "      <td>0</td>\n",
              "      <td>0</td>\n",
              "      <td>0</td>\n",
              "      <td>0</td>\n",
              "      <td>0</td>\n",
              "    </tr>\n",
              "    <tr>\n",
              "      <th>1194</th>\n",
              "      <td>1</td>\n",
              "      <td>13</td>\n",
              "      <td>76.285</td>\n",
              "      <td>0</td>\n",
              "      <td>0</td>\n",
              "      <td>0</td>\n",
              "      <td>0</td>\n",
              "      <td>0</td>\n",
              "      <td>0</td>\n",
              "      <td>1</td>\n",
              "      <td>...</td>\n",
              "      <td>0</td>\n",
              "      <td>0</td>\n",
              "      <td>0</td>\n",
              "      <td>0</td>\n",
              "      <td>0</td>\n",
              "      <td>0</td>\n",
              "      <td>0</td>\n",
              "      <td>0</td>\n",
              "      <td>0</td>\n",
              "      <td>0</td>\n",
              "    </tr>\n",
              "  </tbody>\n",
              "</table>\n",
              "<p>1195 rows × 665 columns</p>\n",
              "</div>"
            ],
            "text/plain": [
              "      gender  course  grades     agriculture  \\\n",
              "0          0      13      85  0            0   \n",
              "1          1       6    66.5  0            0   \n",
              "2          0      15    64.6  0            0   \n",
              "3          0      50  75.525  0            0   \n",
              "4          0      14   70.68  0            0   \n",
              "...      ...     ...     ... ..          ...   \n",
              "1190       1      14    72.2  0            0   \n",
              "1191       1      13   80.75  0            0   \n",
              "1192       1      14   59.22  0            0   \n",
              "1193       1      22      57  0            0   \n",
              "1194       1      13  76.285  0            0   \n",
              "\n",
              "      all fields related to data science  all fields related to data science.  \\\n",
              "0                                      0                                    0   \n",
              "1                                      0                                    0   \n",
              "2                                      0                                    0   \n",
              "3                                      0                                    0   \n",
              "4                                      0                                    0   \n",
              "...                                  ...                                  ...   \n",
              "1190                                   0                                    0   \n",
              "1191                                   0                                    0   \n",
              "1192                                   0                                    0   \n",
              "1193                                   0                                    0   \n",
              "1194                                   0                                    0   \n",
              "\n",
              "      all fields related to data science.machine learning  analysis  \\\n",
              "0                                                     0           0   \n",
              "1                                                     0           0   \n",
              "2                                                     0           0   \n",
              "3                                                     0           0   \n",
              "4                                                     0           0   \n",
              "...                                                 ...         ...   \n",
              "1190                                                  0           0   \n",
              "1191                                                  0           0   \n",
              "1192                                                  0           0   \n",
              "1193                                                  0           0   \n",
              "1194                                                  0           0   \n",
              "\n",
              "      animation  ...  working capital management  writing  writing skills  \\\n",
              "0             0  ...                           0        0               0   \n",
              "1             0  ...                           0        0               0   \n",
              "2             0  ...                           0        0               0   \n",
              "3             0  ...                           0        0               0   \n",
              "4             0  ...                           0        0               0   \n",
              "...         ...  ...                         ...      ...             ...   \n",
              "1190          0  ...                           0        0               0   \n",
              "1191          0  ...                           0        0               0   \n",
              "1192          0  ...                           0        0               0   \n",
              "1193          0  ...                           0        0               0   \n",
              "1194          1  ...                           0        0               0   \n",
              "\n",
              "      x-ray crystallography  xcode  xilinx vivado  xml  yii2  zoho  \\\n",
              "0                         0      0              0    0     0     0   \n",
              "1                         0      0              0    0     0     0   \n",
              "2                         0      0              0    0     0     0   \n",
              "3                         0      0              0    0     0     0   \n",
              "4                         0      0              0    0     0     0   \n",
              "...                     ...    ...            ...  ...   ...   ...   \n",
              "1190                      0      0              0    0     0     0   \n",
              "1191                      0      0              0    0     0     0   \n",
              "1192                      0      0              0    0     0     0   \n",
              "1193                      0      0              0    0     0     0   \n",
              "1194                      0      0              0    0     0     0   \n",
              "\n",
              "      zuul api gateway  \n",
              "0                    0  \n",
              "1                    0  \n",
              "2                    0  \n",
              "3                    0  \n",
              "4                    0  \n",
              "...                ...  \n",
              "1190                 0  \n",
              "1191                 0  \n",
              "1192                 0  \n",
              "1193                 0  \n",
              "1194                 0  \n",
              "\n",
              "[1195 rows x 665 columns]"
            ]
          },
          "execution_count": 37,
          "metadata": {},
          "output_type": "execute_result"
        }
      ],
      "source": [
        "df_test"
      ]
    },
    {
      "cell_type": "code",
      "execution_count": 38,
      "metadata": {
        "id": "T3lblpPAo0y7"
      },
      "outputs": [],
      "source": [
        "import joblib"
      ]
    },
    {
      "cell_type": "code",
      "execution_count": 39,
      "metadata": {
        "colab": {
          "base_uri": "https://localhost:8080/"
        },
        "id": "bKLLSHfxo8sR",
        "outputId": "e08381ba-eeca-40e9-ff9a-38f74bef08ca"
      },
      "outputs": [
        {
          "data": {
            "text/plain": [
              "['mlb.pkl']"
            ]
          },
          "execution_count": 39,
          "metadata": {},
          "output_type": "execute_result"
        }
      ],
      "source": [
        "joblib.dump(le,r'le.pkl')\n",
        "joblib.dump(mlb,r'mlb.pkl')"
      ]
    },
    {
      "cell_type": "code",
      "execution_count": 40,
      "metadata": {
        "colab": {
          "base_uri": "https://localhost:8080/"
        },
        "id": "-LjOWphqpDQY",
        "outputId": "dd454b8e-dd5a-4f11-fc18-baceffd92373"
      },
      "outputs": [
        {
          "name": "stdout",
          "output_type": "stream",
          "text": [
            "                    gender    course    grades            agriculture  \\\n",
            "gender            1.000000  0.012200 -0.095024  0.019801     0.018491   \n",
            "course            0.012200  1.000000 -0.081325 -0.008488     0.103857   \n",
            "grades           -0.095024 -0.081325  1.000000  0.003469    -0.011620   \n",
            "                  0.019801 -0.008488  0.003469  1.000000    -0.002521   \n",
            "agriculture       0.018491  0.103857 -0.011620 -0.002521     1.000000   \n",
            "...                    ...       ...       ...       ...          ...   \n",
            "xilinx vivado     0.019801 -0.008488  0.016624 -0.000838    -0.002521   \n",
            "xml               0.028014 -0.012010  0.035928 -0.001185    -0.003567   \n",
            "yii2              0.019801 -0.008488  0.013701 -0.000838    -0.002521   \n",
            "zoho              0.019801 -0.008488  0.031241 -0.000838    -0.002521   \n",
            "zuul api gateway  0.019801 -0.008488  0.031241 -0.000838    -0.002521   \n",
            "\n",
            "                  all fields related to data science  \\\n",
            "gender                                      0.029232   \n",
            "course                                     -0.022515   \n",
            "grades                                      0.060488   \n",
            "                                           -0.002221   \n",
            "agriculture                                -0.006687   \n",
            "...                                              ...   \n",
            "xilinx vivado                              -0.002221   \n",
            "xml                                         0.533401   \n",
            "yii2                                        0.377014   \n",
            "zoho                                       -0.002221   \n",
            "zuul api gateway                           -0.002221   \n",
            "\n",
            "                  all fields related to data science.  \\\n",
            "gender                                       0.031356   \n",
            "course                                       0.065864   \n",
            "grades                                      -0.040321   \n",
            "                                            -0.005920   \n",
            "agriculture                                 -0.017820   \n",
            "...                                               ...   \n",
            "xilinx vivado                               -0.005920   \n",
            "xml                                         -0.008376   \n",
            "yii2                                        -0.005920   \n",
            "zoho                                        -0.005920   \n",
            "zuul api gateway                            -0.005920   \n",
            "\n",
            "                  all fields related to data science.machine learning  \\\n",
            "gender                                                     0.019801     \n",
            "course                                                    -0.008488     \n",
            "grades                                                    -0.012610     \n",
            "                                                          -0.000838     \n",
            "agriculture                                               -0.002521     \n",
            "...                                                             ...     \n",
            "xilinx vivado                                             -0.000838     \n",
            "xml                                                       -0.001185     \n",
            "yii2                                                      -0.000838     \n",
            "zoho                                                      -0.000838     \n",
            "zuul api gateway                                          -0.000838     \n",
            "\n",
            "                  analysis  animation  ...  working capital management  \\\n",
            "gender            0.019801   0.028014  ...                   -0.041659   \n",
            "course           -0.037363  -0.016095  ...                   -0.008488   \n",
            "grades           -0.000916   0.009664  ...                    0.006684   \n",
            "                 -0.000838  -0.001185  ...                   -0.000838   \n",
            "agriculture      -0.002521  -0.003567  ...                   -0.002521   \n",
            "...                    ...        ...  ...                         ...   \n",
            "xilinx vivado    -0.000838  -0.001185  ...                   -0.000838   \n",
            "xml              -0.001185  -0.001676  ...                   -0.001185   \n",
            "yii2             -0.000838  -0.001185  ...                   -0.000838   \n",
            "zoho             -0.000838  -0.001185  ...                   -0.000838   \n",
            "zuul api gateway -0.000838  -0.001185  ...                   -0.000838   \n",
            "\n",
            "                   writing  writing skills  x-ray crystallography     xcode  \\\n",
            "gender           -0.056290       -0.123823               0.019801  0.019801   \n",
            "course           -0.102495        0.075297              -0.011376 -0.008488   \n",
            "grades            0.008415        0.043893               0.039134  0.047027   \n",
            "                 -0.006770       -0.009489              -0.000838 -0.000838   \n",
            "agriculture      -0.020378        0.036825              -0.002521 -0.002521   \n",
            "...                    ...             ...                    ...       ...   \n",
            "xilinx vivado    -0.006770       -0.009489              -0.000838 -0.000838   \n",
            "xml              -0.009578       -0.013425              -0.001185 -0.001185   \n",
            "yii2             -0.006770       -0.009489              -0.000838 -0.000838   \n",
            "zoho             -0.006770       -0.009489              -0.000838 -0.000838   \n",
            "zuul api gateway -0.006770       -0.009489              -0.000838 -0.000838   \n",
            "\n",
            "                  xilinx vivado       xml      yii2      zoho  \\\n",
            "gender                 0.019801  0.028014  0.019801  0.019801   \n",
            "course                -0.008488 -0.012010 -0.008488 -0.008488   \n",
            "grades                 0.016624  0.035928  0.013701  0.031241   \n",
            "                      -0.000838 -0.001185 -0.000838 -0.000838   \n",
            "agriculture           -0.002521 -0.003567 -0.002521 -0.002521   \n",
            "...                         ...       ...       ...       ...   \n",
            "xilinx vivado          1.000000 -0.001185 -0.000838 -0.000838   \n",
            "xml                   -0.001185  1.000000  0.706811 -0.001185   \n",
            "yii2                  -0.000838  0.706811  1.000000 -0.000838   \n",
            "zoho                  -0.000838 -0.001185 -0.000838  1.000000   \n",
            "zuul api gateway      -0.000838 -0.001185 -0.000838  1.000000   \n",
            "\n",
            "                  zuul api gateway  \n",
            "gender                    0.019801  \n",
            "course                   -0.008488  \n",
            "grades                    0.031241  \n",
            "                         -0.000838  \n",
            "agriculture              -0.002521  \n",
            "...                            ...  \n",
            "xilinx vivado            -0.000838  \n",
            "xml                      -0.001185  \n",
            "yii2                     -0.000838  \n",
            "zoho                      1.000000  \n",
            "zuul api gateway          1.000000  \n",
            "\n",
            "[665 rows x 665 columns]\n"
          ]
        }
      ],
      "source": [
        "corr_matrix = df_test.corr()\n",
        "\n",
        "# Display the correlation matrix\n",
        "print(corr_matrix)"
      ]
    },
    {
      "cell_type": "code",
      "execution_count": 41,
      "metadata": {
        "id": "1Ah3CbnipIEJ"
      },
      "outputs": [],
      "source": [
        "X=df_test.drop('course',axis=1)"
      ]
    },
    {
      "cell_type": "code",
      "execution_count": 42,
      "metadata": {
        "id": "ue-RDm4opLdG"
      },
      "outputs": [],
      "source": [
        "Y=df_test['course']"
      ]
    },
    {
      "cell_type": "code",
      "execution_count": 43,
      "metadata": {
        "id": "Nkpo-jvEpMbo"
      },
      "outputs": [],
      "source": [
        "from sklearn.model_selection import train_test_split\n",
        "X_train, X_test, Y_train, Y_test = train_test_split(X,Y, random_state=101, test_size=0.2)"
      ]
    },
    {
      "cell_type": "code",
      "execution_count": 44,
      "metadata": {
        "colab": {
          "base_uri": "https://localhost:8080/",
          "height": 401
        },
        "id": "VQTtSokRpN1L",
        "outputId": "67f7c035-2a36-4087-c334-4f11f5b0b013"
      },
      "outputs": [
        {
          "data": {
            "text/html": [
              "<div>\n",
              "<style scoped>\n",
              "    .dataframe tbody tr th:only-of-type {\n",
              "        vertical-align: middle;\n",
              "    }\n",
              "\n",
              "    .dataframe tbody tr th {\n",
              "        vertical-align: top;\n",
              "    }\n",
              "\n",
              "    .dataframe thead th {\n",
              "        text-align: right;\n",
              "    }\n",
              "</style>\n",
              "<table border=\"1\" class=\"dataframe\">\n",
              "  <thead>\n",
              "    <tr style=\"text-align: right;\">\n",
              "      <th></th>\n",
              "      <th>gender</th>\n",
              "      <th></th>\n",
              "      <th>agriculture</th>\n",
              "      <th>all fields related to data science</th>\n",
              "      <th>all fields related to data science.</th>\n",
              "      <th>all fields related to data science.machine learning</th>\n",
              "      <th>analysis</th>\n",
              "      <th>animation</th>\n",
              "      <th>application development</th>\n",
              "      <th>architecture and construction</th>\n",
              "      <th>...</th>\n",
              "      <th>working capital management</th>\n",
              "      <th>writing</th>\n",
              "      <th>writing skills</th>\n",
              "      <th>x-ray crystallography</th>\n",
              "      <th>xcode</th>\n",
              "      <th>xilinx vivado</th>\n",
              "      <th>xml</th>\n",
              "      <th>yii2</th>\n",
              "      <th>zoho</th>\n",
              "      <th>zuul api gateway</th>\n",
              "    </tr>\n",
              "  </thead>\n",
              "  <tbody>\n",
              "    <tr>\n",
              "      <th>count</th>\n",
              "      <td>1195.000000</td>\n",
              "      <td>1195.000000</td>\n",
              "      <td>1195.000000</td>\n",
              "      <td>1195.000000</td>\n",
              "      <td>1195.000000</td>\n",
              "      <td>1195.000000</td>\n",
              "      <td>1195.000000</td>\n",
              "      <td>1195.000000</td>\n",
              "      <td>1195.000000</td>\n",
              "      <td>1195.000000</td>\n",
              "      <td>...</td>\n",
              "      <td>1195.000000</td>\n",
              "      <td>1195.000000</td>\n",
              "      <td>1195.000000</td>\n",
              "      <td>1195.000000</td>\n",
              "      <td>1195.000000</td>\n",
              "      <td>1195.000000</td>\n",
              "      <td>1195.000000</td>\n",
              "      <td>1195.000000</td>\n",
              "      <td>1195.000000</td>\n",
              "      <td>1195.000000</td>\n",
              "    </tr>\n",
              "    <tr>\n",
              "      <th>mean</th>\n",
              "      <td>0.677824</td>\n",
              "      <td>0.000837</td>\n",
              "      <td>0.007531</td>\n",
              "      <td>0.005858</td>\n",
              "      <td>0.040167</td>\n",
              "      <td>0.000837</td>\n",
              "      <td>0.000837</td>\n",
              "      <td>0.001674</td>\n",
              "      <td>0.000837</td>\n",
              "      <td>0.000837</td>\n",
              "      <td>...</td>\n",
              "      <td>0.000837</td>\n",
              "      <td>0.051883</td>\n",
              "      <td>0.097071</td>\n",
              "      <td>0.000837</td>\n",
              "      <td>0.000837</td>\n",
              "      <td>0.000837</td>\n",
              "      <td>0.001674</td>\n",
              "      <td>0.000837</td>\n",
              "      <td>0.000837</td>\n",
              "      <td>0.000837</td>\n",
              "    </tr>\n",
              "    <tr>\n",
              "      <th>std</th>\n",
              "      <td>0.471075</td>\n",
              "      <td>0.028928</td>\n",
              "      <td>0.086492</td>\n",
              "      <td>0.076343</td>\n",
              "      <td>0.196434</td>\n",
              "      <td>0.028928</td>\n",
              "      <td>0.028928</td>\n",
              "      <td>0.040893</td>\n",
              "      <td>0.028928</td>\n",
              "      <td>0.028928</td>\n",
              "      <td>...</td>\n",
              "      <td>0.028928</td>\n",
              "      <td>0.221883</td>\n",
              "      <td>0.296179</td>\n",
              "      <td>0.028928</td>\n",
              "      <td>0.028928</td>\n",
              "      <td>0.028928</td>\n",
              "      <td>0.040893</td>\n",
              "      <td>0.028928</td>\n",
              "      <td>0.028928</td>\n",
              "      <td>0.028928</td>\n",
              "    </tr>\n",
              "    <tr>\n",
              "      <th>min</th>\n",
              "      <td>0.000000</td>\n",
              "      <td>0.000000</td>\n",
              "      <td>0.000000</td>\n",
              "      <td>0.000000</td>\n",
              "      <td>0.000000</td>\n",
              "      <td>0.000000</td>\n",
              "      <td>0.000000</td>\n",
              "      <td>0.000000</td>\n",
              "      <td>0.000000</td>\n",
              "      <td>0.000000</td>\n",
              "      <td>...</td>\n",
              "      <td>0.000000</td>\n",
              "      <td>0.000000</td>\n",
              "      <td>0.000000</td>\n",
              "      <td>0.000000</td>\n",
              "      <td>0.000000</td>\n",
              "      <td>0.000000</td>\n",
              "      <td>0.000000</td>\n",
              "      <td>0.000000</td>\n",
              "      <td>0.000000</td>\n",
              "      <td>0.000000</td>\n",
              "    </tr>\n",
              "    <tr>\n",
              "      <th>25%</th>\n",
              "      <td>0.000000</td>\n",
              "      <td>0.000000</td>\n",
              "      <td>0.000000</td>\n",
              "      <td>0.000000</td>\n",
              "      <td>0.000000</td>\n",
              "      <td>0.000000</td>\n",
              "      <td>0.000000</td>\n",
              "      <td>0.000000</td>\n",
              "      <td>0.000000</td>\n",
              "      <td>0.000000</td>\n",
              "      <td>...</td>\n",
              "      <td>0.000000</td>\n",
              "      <td>0.000000</td>\n",
              "      <td>0.000000</td>\n",
              "      <td>0.000000</td>\n",
              "      <td>0.000000</td>\n",
              "      <td>0.000000</td>\n",
              "      <td>0.000000</td>\n",
              "      <td>0.000000</td>\n",
              "      <td>0.000000</td>\n",
              "      <td>0.000000</td>\n",
              "    </tr>\n",
              "    <tr>\n",
              "      <th>50%</th>\n",
              "      <td>1.000000</td>\n",
              "      <td>0.000000</td>\n",
              "      <td>0.000000</td>\n",
              "      <td>0.000000</td>\n",
              "      <td>0.000000</td>\n",
              "      <td>0.000000</td>\n",
              "      <td>0.000000</td>\n",
              "      <td>0.000000</td>\n",
              "      <td>0.000000</td>\n",
              "      <td>0.000000</td>\n",
              "      <td>...</td>\n",
              "      <td>0.000000</td>\n",
              "      <td>0.000000</td>\n",
              "      <td>0.000000</td>\n",
              "      <td>0.000000</td>\n",
              "      <td>0.000000</td>\n",
              "      <td>0.000000</td>\n",
              "      <td>0.000000</td>\n",
              "      <td>0.000000</td>\n",
              "      <td>0.000000</td>\n",
              "      <td>0.000000</td>\n",
              "    </tr>\n",
              "    <tr>\n",
              "      <th>75%</th>\n",
              "      <td>1.000000</td>\n",
              "      <td>0.000000</td>\n",
              "      <td>0.000000</td>\n",
              "      <td>0.000000</td>\n",
              "      <td>0.000000</td>\n",
              "      <td>0.000000</td>\n",
              "      <td>0.000000</td>\n",
              "      <td>0.000000</td>\n",
              "      <td>0.000000</td>\n",
              "      <td>0.000000</td>\n",
              "      <td>...</td>\n",
              "      <td>0.000000</td>\n",
              "      <td>0.000000</td>\n",
              "      <td>0.000000</td>\n",
              "      <td>0.000000</td>\n",
              "      <td>0.000000</td>\n",
              "      <td>0.000000</td>\n",
              "      <td>0.000000</td>\n",
              "      <td>0.000000</td>\n",
              "      <td>0.000000</td>\n",
              "      <td>0.000000</td>\n",
              "    </tr>\n",
              "    <tr>\n",
              "      <th>max</th>\n",
              "      <td>2.000000</td>\n",
              "      <td>1.000000</td>\n",
              "      <td>1.000000</td>\n",
              "      <td>1.000000</td>\n",
              "      <td>1.000000</td>\n",
              "      <td>1.000000</td>\n",
              "      <td>1.000000</td>\n",
              "      <td>1.000000</td>\n",
              "      <td>1.000000</td>\n",
              "      <td>1.000000</td>\n",
              "      <td>...</td>\n",
              "      <td>1.000000</td>\n",
              "      <td>1.000000</td>\n",
              "      <td>1.000000</td>\n",
              "      <td>1.000000</td>\n",
              "      <td>1.000000</td>\n",
              "      <td>1.000000</td>\n",
              "      <td>1.000000</td>\n",
              "      <td>1.000000</td>\n",
              "      <td>1.000000</td>\n",
              "      <td>1.000000</td>\n",
              "    </tr>\n",
              "  </tbody>\n",
              "</table>\n",
              "<p>8 rows × 663 columns</p>\n",
              "</div>"
            ],
            "text/plain": [
              "            gender               agriculture  \\\n",
              "count  1195.000000  1195.000000  1195.000000   \n",
              "mean      0.677824     0.000837     0.007531   \n",
              "std       0.471075     0.028928     0.086492   \n",
              "min       0.000000     0.000000     0.000000   \n",
              "25%       0.000000     0.000000     0.000000   \n",
              "50%       1.000000     0.000000     0.000000   \n",
              "75%       1.000000     0.000000     0.000000   \n",
              "max       2.000000     1.000000     1.000000   \n",
              "\n",
              "       all fields related to data science  \\\n",
              "count                         1195.000000   \n",
              "mean                             0.005858   \n",
              "std                              0.076343   \n",
              "min                              0.000000   \n",
              "25%                              0.000000   \n",
              "50%                              0.000000   \n",
              "75%                              0.000000   \n",
              "max                              1.000000   \n",
              "\n",
              "       all fields related to data science.  \\\n",
              "count                          1195.000000   \n",
              "mean                              0.040167   \n",
              "std                               0.196434   \n",
              "min                               0.000000   \n",
              "25%                               0.000000   \n",
              "50%                               0.000000   \n",
              "75%                               0.000000   \n",
              "max                               1.000000   \n",
              "\n",
              "       all fields related to data science.machine learning     analysis  \\\n",
              "count                                        1195.000000    1195.000000   \n",
              "mean                                            0.000837       0.000837   \n",
              "std                                             0.028928       0.028928   \n",
              "min                                             0.000000       0.000000   \n",
              "25%                                             0.000000       0.000000   \n",
              "50%                                             0.000000       0.000000   \n",
              "75%                                             0.000000       0.000000   \n",
              "max                                             1.000000       1.000000   \n",
              "\n",
              "         animation  application development  architecture and construction  \\\n",
              "count  1195.000000              1195.000000                    1195.000000   \n",
              "mean      0.001674                 0.000837                       0.000837   \n",
              "std       0.040893                 0.028928                       0.028928   \n",
              "min       0.000000                 0.000000                       0.000000   \n",
              "25%       0.000000                 0.000000                       0.000000   \n",
              "50%       0.000000                 0.000000                       0.000000   \n",
              "75%       0.000000                 0.000000                       0.000000   \n",
              "max       1.000000                 1.000000                       1.000000   \n",
              "\n",
              "       ...  working capital management      writing  writing skills  \\\n",
              "count  ...                 1195.000000  1195.000000     1195.000000   \n",
              "mean   ...                    0.000837     0.051883        0.097071   \n",
              "std    ...                    0.028928     0.221883        0.296179   \n",
              "min    ...                    0.000000     0.000000        0.000000   \n",
              "25%    ...                    0.000000     0.000000        0.000000   \n",
              "50%    ...                    0.000000     0.000000        0.000000   \n",
              "75%    ...                    0.000000     0.000000        0.000000   \n",
              "max    ...                    1.000000     1.000000        1.000000   \n",
              "\n",
              "       x-ray crystallography        xcode  xilinx vivado          xml  \\\n",
              "count            1195.000000  1195.000000    1195.000000  1195.000000   \n",
              "mean                0.000837     0.000837       0.000837     0.001674   \n",
              "std                 0.028928     0.028928       0.028928     0.040893   \n",
              "min                 0.000000     0.000000       0.000000     0.000000   \n",
              "25%                 0.000000     0.000000       0.000000     0.000000   \n",
              "50%                 0.000000     0.000000       0.000000     0.000000   \n",
              "75%                 0.000000     0.000000       0.000000     0.000000   \n",
              "max                 1.000000     1.000000       1.000000     1.000000   \n",
              "\n",
              "              yii2         zoho  zuul api gateway  \n",
              "count  1195.000000  1195.000000       1195.000000  \n",
              "mean      0.000837     0.000837          0.000837  \n",
              "std       0.028928     0.028928          0.028928  \n",
              "min       0.000000     0.000000          0.000000  \n",
              "25%       0.000000     0.000000          0.000000  \n",
              "50%       0.000000     0.000000          0.000000  \n",
              "75%       0.000000     0.000000          0.000000  \n",
              "max       1.000000     1.000000          1.000000  \n",
              "\n",
              "[8 rows x 663 columns]"
            ]
          },
          "execution_count": 44,
          "metadata": {},
          "output_type": "execute_result"
        }
      ],
      "source": [
        "X.describe()"
      ]
    },
    {
      "cell_type": "code",
      "execution_count": 45,
      "metadata": {
        "id": "-n7iHuFapOzb"
      },
      "outputs": [],
      "source": [
        "from sklearn.preprocessing import StandardScaler\n",
        "sc= StandardScaler()"
      ]
    },
    {
      "cell_type": "code",
      "execution_count": 46,
      "metadata": {
        "id": "JDqHlnQVpPsT"
      },
      "outputs": [],
      "source": [
        "X_train_std= sc.fit_transform(X_train)"
      ]
    },
    {
      "cell_type": "code",
      "execution_count": 47,
      "metadata": {
        "colab": {
          "base_uri": "https://localhost:8080/"
        },
        "id": "4f2LLwXPpRDw",
        "outputId": "878593e4-9789-4e41-da5e-5da915a41fed"
      },
      "outputs": [
        {
          "data": {
            "text/plain": [
              "array([[ 0.68950992,  1.39747204, -0.03235924, ..., -0.03235924,\n",
              "        -0.03235924, -0.03235924],\n",
              "       [ 0.68950992, -1.64764932, -0.03235924, ..., -0.03235924,\n",
              "        -0.03235924, -0.03235924],\n",
              "       [ 0.68950992,  0.18155668, -0.03235924, ..., -0.03235924,\n",
              "        -0.03235924, -0.03235924],\n",
              "       ...,\n",
              "       [ 0.68950992,  1.51906357, -0.03235924, ..., -0.03235924,\n",
              "        -0.03235924, -0.03235924],\n",
              "       [ 0.68950992, -0.73037984, -0.03235924, ..., -0.03235924,\n",
              "        -0.03235924, -0.03235924],\n",
              "       [-1.42321919,  0.48553552, -0.03235924, ..., -0.03235924,\n",
              "        -0.03235924, -0.03235924]])"
            ]
          },
          "execution_count": 47,
          "metadata": {},
          "output_type": "execute_result"
        }
      ],
      "source": [
        "X_test_std= sc.transform(X_test)\n",
        "X_train_std"
      ]
    },
    {
      "cell_type": "code",
      "execution_count": 48,
      "metadata": {
        "colab": {
          "base_uri": "https://localhost:8080/"
        },
        "id": "HuhwhzUIpTef",
        "outputId": "4d3f3f18-d895-4a42-ee25-28f175379376"
      },
      "outputs": [
        {
          "data": {
            "text/plain": [
              "array([[ 0.68950992, -0.52772728, -0.03235924, ..., -0.03235924,\n",
              "        -0.03235924, -0.03235924],\n",
              "       [-1.42321919,  0.92123852, -0.03235924, ..., -0.03235924,\n",
              "        -0.03235924, -0.03235924],\n",
              "       [-1.42321919,  0.80551324, -0.03235924, ..., -0.03235924,\n",
              "        -0.03235924, -0.03235924],\n",
              "       ...,\n",
              "       [ 0.68950992,  0.07169766, -0.03235924, ..., -0.03235924,\n",
              "        -0.03235924, -0.03235924],\n",
              "       [-1.42321919,  0.37887628, -0.03235924, ..., -0.03235924,\n",
              "        -0.03235924, -0.03235924],\n",
              "       [-1.42321919,  0.99216692, -0.03235924, ..., -0.03235924,\n",
              "        -0.03235924, -0.03235924]])"
            ]
          },
          "execution_count": 48,
          "metadata": {},
          "output_type": "execute_result"
        }
      ],
      "source": [
        "X_test_std"
      ]
    },
    {
      "cell_type": "code",
      "execution_count": 49,
      "metadata": {
        "colab": {
          "base_uri": "https://localhost:8080/"
        },
        "id": "iUR-nrKCpVRJ",
        "outputId": "6b4d8916-b76c-4218-e1ec-0ba47cee33fc"
      },
      "outputs": [
        {
          "data": {
            "text/plain": [
              "678    23\n",
              "533    22\n",
              "50     14\n",
              "122    14\n",
              "418    14\n",
              "       ..\n",
              "575    47\n",
              "973    14\n",
              "75      4\n",
              "599    22\n",
              "863    14\n",
              "Name: course, Length: 956, dtype: int32"
            ]
          },
          "execution_count": 49,
          "metadata": {},
          "output_type": "execute_result"
        }
      ],
      "source": [
        "Y_train"
      ]
    },
    {
      "cell_type": "code",
      "execution_count": 50,
      "metadata": {
        "colab": {
          "base_uri": "https://localhost:8080/"
        },
        "id": "wQfAqIaRpXIF",
        "outputId": "466dad20-05b4-4b95-8e85-048785444e43"
      },
      "outputs": [
        {
          "data": {
            "text/plain": [
              "463     22\n",
              "352     13\n",
              "860     13\n",
              "1174    22\n",
              "2       15\n",
              "        ..\n",
              "714     48\n",
              "7       14\n",
              "935     14\n",
              "254      4\n",
              "767     18\n",
              "Name: course, Length: 239, dtype: int32"
            ]
          },
          "execution_count": 50,
          "metadata": {},
          "output_type": "execute_result"
        }
      ],
      "source": [
        "Y_test"
      ]
    },
    {
      "cell_type": "code",
      "execution_count": 51,
      "metadata": {
        "colab": {
          "base_uri": "https://localhost:8080/"
        },
        "id": "KGUEODxspYlL",
        "outputId": "0041f5a1-a3c9-4749-d79a-462db1493daf"
      },
      "outputs": [
        {
          "data": {
            "text/plain": [
              "['sc.sav']"
            ]
          },
          "execution_count": 51,
          "metadata": {},
          "output_type": "execute_result"
        }
      ],
      "source": [
        "joblib.dump(sc,r'sc.sav')"
      ]
    },
    {
      "cell_type": "code",
      "execution_count": 52,
      "metadata": {
        "id": "eylhZhxSpeV9"
      },
      "outputs": [],
      "source": [
        "from sklearn.linear_model import LinearRegression\n",
        "lr= LinearRegression()"
      ]
    },
    {
      "cell_type": "code",
      "execution_count": 53,
      "metadata": {
        "colab": {
          "base_uri": "https://localhost:8080/",
          "height": 74
        },
        "id": "rsROYpyWpfy0",
        "outputId": "3821324f-8882-4fad-f238-95ea7fa8f2aa"
      },
      "outputs": [
        {
          "data": {
            "text/html": [
              "<style>#sk-container-id-1 {color: black;}#sk-container-id-1 pre{padding: 0;}#sk-container-id-1 div.sk-toggleable {background-color: white;}#sk-container-id-1 label.sk-toggleable__label {cursor: pointer;display: block;width: 100%;margin-bottom: 0;padding: 0.3em;box-sizing: border-box;text-align: center;}#sk-container-id-1 label.sk-toggleable__label-arrow:before {content: \"▸\";float: left;margin-right: 0.25em;color: #696969;}#sk-container-id-1 label.sk-toggleable__label-arrow:hover:before {color: black;}#sk-container-id-1 div.sk-estimator:hover label.sk-toggleable__label-arrow:before {color: black;}#sk-container-id-1 div.sk-toggleable__content {max-height: 0;max-width: 0;overflow: hidden;text-align: left;background-color: #f0f8ff;}#sk-container-id-1 div.sk-toggleable__content pre {margin: 0.2em;color: black;border-radius: 0.25em;background-color: #f0f8ff;}#sk-container-id-1 input.sk-toggleable__control:checked~div.sk-toggleable__content {max-height: 200px;max-width: 100%;overflow: auto;}#sk-container-id-1 input.sk-toggleable__control:checked~label.sk-toggleable__label-arrow:before {content: \"▾\";}#sk-container-id-1 div.sk-estimator input.sk-toggleable__control:checked~label.sk-toggleable__label {background-color: #d4ebff;}#sk-container-id-1 div.sk-label input.sk-toggleable__control:checked~label.sk-toggleable__label {background-color: #d4ebff;}#sk-container-id-1 input.sk-hidden--visually {border: 0;clip: rect(1px 1px 1px 1px);clip: rect(1px, 1px, 1px, 1px);height: 1px;margin: -1px;overflow: hidden;padding: 0;position: absolute;width: 1px;}#sk-container-id-1 div.sk-estimator {font-family: monospace;background-color: #f0f8ff;border: 1px dotted black;border-radius: 0.25em;box-sizing: border-box;margin-bottom: 0.5em;}#sk-container-id-1 div.sk-estimator:hover {background-color: #d4ebff;}#sk-container-id-1 div.sk-parallel-item::after {content: \"\";width: 100%;border-bottom: 1px solid gray;flex-grow: 1;}#sk-container-id-1 div.sk-label:hover label.sk-toggleable__label {background-color: #d4ebff;}#sk-container-id-1 div.sk-serial::before {content: \"\";position: absolute;border-left: 1px solid gray;box-sizing: border-box;top: 0;bottom: 0;left: 50%;z-index: 0;}#sk-container-id-1 div.sk-serial {display: flex;flex-direction: column;align-items: center;background-color: white;padding-right: 0.2em;padding-left: 0.2em;position: relative;}#sk-container-id-1 div.sk-item {position: relative;z-index: 1;}#sk-container-id-1 div.sk-parallel {display: flex;align-items: stretch;justify-content: center;background-color: white;position: relative;}#sk-container-id-1 div.sk-item::before, #sk-container-id-1 div.sk-parallel-item::before {content: \"\";position: absolute;border-left: 1px solid gray;box-sizing: border-box;top: 0;bottom: 0;left: 50%;z-index: -1;}#sk-container-id-1 div.sk-parallel-item {display: flex;flex-direction: column;z-index: 1;position: relative;background-color: white;}#sk-container-id-1 div.sk-parallel-item:first-child::after {align-self: flex-end;width: 50%;}#sk-container-id-1 div.sk-parallel-item:last-child::after {align-self: flex-start;width: 50%;}#sk-container-id-1 div.sk-parallel-item:only-child::after {width: 0;}#sk-container-id-1 div.sk-dashed-wrapped {border: 1px dashed gray;margin: 0 0.4em 0.5em 0.4em;box-sizing: border-box;padding-bottom: 0.4em;background-color: white;}#sk-container-id-1 div.sk-label label {font-family: monospace;font-weight: bold;display: inline-block;line-height: 1.2em;}#sk-container-id-1 div.sk-label-container {text-align: center;}#sk-container-id-1 div.sk-container {/* jupyter's `normalize.less` sets `[hidden] { display: none; }` but bootstrap.min.css set `[hidden] { display: none !important; }` so we also need the `!important` here to be able to override the default hidden behavior on the sphinx rendered scikit-learn.org. See: https://github.com/scikit-learn/scikit-learn/issues/21755 */display: inline-block !important;position: relative;}#sk-container-id-1 div.sk-text-repr-fallback {display: none;}</style><div id=\"sk-container-id-1\" class=\"sk-top-container\"><div class=\"sk-text-repr-fallback\"><pre>LinearRegression()</pre><b>In a Jupyter environment, please rerun this cell to show the HTML representation or trust the notebook. <br />On GitHub, the HTML representation is unable to render, please try loading this page with nbviewer.org.</b></div><div class=\"sk-container\" hidden><div class=\"sk-item\"><div class=\"sk-estimator sk-toggleable\"><input class=\"sk-toggleable__control sk-hidden--visually\" id=\"sk-estimator-id-1\" type=\"checkbox\" checked><label for=\"sk-estimator-id-1\" class=\"sk-toggleable__label sk-toggleable__label-arrow\">LinearRegression</label><div class=\"sk-toggleable__content\"><pre>LinearRegression()</pre></div></div></div></div></div>"
            ],
            "text/plain": [
              "LinearRegression()"
            ]
          },
          "execution_count": 53,
          "metadata": {},
          "output_type": "execute_result"
        }
      ],
      "source": [
        "lr.fit(X_train_std,Y_train)"
      ]
    },
    {
      "cell_type": "code",
      "execution_count": 54,
      "metadata": {
        "colab": {
          "base_uri": "https://localhost:8080/",
          "height": 325
        },
        "id": "SODJWIscpiIL",
        "outputId": "5265698e-8f4c-4567-b780-574e676479fc"
      },
      "outputs": [
        {
          "data": {
            "text/html": [
              "<div>\n",
              "<style scoped>\n",
              "    .dataframe tbody tr th:only-of-type {\n",
              "        vertical-align: middle;\n",
              "    }\n",
              "\n",
              "    .dataframe tbody tr th {\n",
              "        vertical-align: top;\n",
              "    }\n",
              "\n",
              "    .dataframe thead th {\n",
              "        text-align: right;\n",
              "    }\n",
              "</style>\n",
              "<table border=\"1\" class=\"dataframe\">\n",
              "  <thead>\n",
              "    <tr style=\"text-align: right;\">\n",
              "      <th></th>\n",
              "      <th>gender</th>\n",
              "      <th>grades</th>\n",
              "      <th></th>\n",
              "      <th>agriculture</th>\n",
              "      <th>all fields related to data science</th>\n",
              "      <th>all fields related to data science.</th>\n",
              "      <th>all fields related to data science.machine learning</th>\n",
              "      <th>analysis</th>\n",
              "      <th>animation</th>\n",
              "      <th>application development</th>\n",
              "      <th>...</th>\n",
              "      <th>working capital management</th>\n",
              "      <th>writing</th>\n",
              "      <th>writing skills</th>\n",
              "      <th>x-ray crystallography</th>\n",
              "      <th>xcode</th>\n",
              "      <th>xilinx vivado</th>\n",
              "      <th>xml</th>\n",
              "      <th>yii2</th>\n",
              "      <th>zoho</th>\n",
              "      <th>zuul api gateway</th>\n",
              "    </tr>\n",
              "  </thead>\n",
              "  <tbody>\n",
              "    <tr>\n",
              "      <th>463</th>\n",
              "      <td>1</td>\n",
              "      <td>66.5</td>\n",
              "      <td>0</td>\n",
              "      <td>0</td>\n",
              "      <td>0</td>\n",
              "      <td>0</td>\n",
              "      <td>0</td>\n",
              "      <td>0</td>\n",
              "      <td>0</td>\n",
              "      <td>0</td>\n",
              "      <td>...</td>\n",
              "      <td>0</td>\n",
              "      <td>0</td>\n",
              "      <td>0</td>\n",
              "      <td>0</td>\n",
              "      <td>0</td>\n",
              "      <td>0</td>\n",
              "      <td>0</td>\n",
              "      <td>0</td>\n",
              "      <td>0</td>\n",
              "      <td>0</td>\n",
              "    </tr>\n",
              "    <tr>\n",
              "      <th>352</th>\n",
              "      <td>0</td>\n",
              "      <td>80.085</td>\n",
              "      <td>0</td>\n",
              "      <td>0</td>\n",
              "      <td>0</td>\n",
              "      <td>0</td>\n",
              "      <td>0</td>\n",
              "      <td>0</td>\n",
              "      <td>0</td>\n",
              "      <td>0</td>\n",
              "      <td>...</td>\n",
              "      <td>0</td>\n",
              "      <td>0</td>\n",
              "      <td>0</td>\n",
              "      <td>0</td>\n",
              "      <td>0</td>\n",
              "      <td>0</td>\n",
              "      <td>0</td>\n",
              "      <td>0</td>\n",
              "      <td>0</td>\n",
              "      <td>0</td>\n",
              "    </tr>\n",
              "    <tr>\n",
              "      <th>860</th>\n",
              "      <td>0</td>\n",
              "      <td>79</td>\n",
              "      <td>0</td>\n",
              "      <td>0</td>\n",
              "      <td>0</td>\n",
              "      <td>1</td>\n",
              "      <td>0</td>\n",
              "      <td>0</td>\n",
              "      <td>0</td>\n",
              "      <td>0</td>\n",
              "      <td>...</td>\n",
              "      <td>0</td>\n",
              "      <td>0</td>\n",
              "      <td>0</td>\n",
              "      <td>0</td>\n",
              "      <td>0</td>\n",
              "      <td>0</td>\n",
              "      <td>0</td>\n",
              "      <td>0</td>\n",
              "      <td>0</td>\n",
              "      <td>0</td>\n",
              "    </tr>\n",
              "    <tr>\n",
              "      <th>1174</th>\n",
              "      <td>1</td>\n",
              "      <td>65.55</td>\n",
              "      <td>0</td>\n",
              "      <td>0</td>\n",
              "      <td>0</td>\n",
              "      <td>0</td>\n",
              "      <td>0</td>\n",
              "      <td>0</td>\n",
              "      <td>0</td>\n",
              "      <td>0</td>\n",
              "      <td>...</td>\n",
              "      <td>0</td>\n",
              "      <td>0</td>\n",
              "      <td>0</td>\n",
              "      <td>0</td>\n",
              "      <td>0</td>\n",
              "      <td>0</td>\n",
              "      <td>0</td>\n",
              "      <td>0</td>\n",
              "      <td>0</td>\n",
              "      <td>0</td>\n",
              "    </tr>\n",
              "    <tr>\n",
              "      <th>2</th>\n",
              "      <td>0</td>\n",
              "      <td>64.6</td>\n",
              "      <td>0</td>\n",
              "      <td>0</td>\n",
              "      <td>0</td>\n",
              "      <td>0</td>\n",
              "      <td>0</td>\n",
              "      <td>0</td>\n",
              "      <td>0</td>\n",
              "      <td>0</td>\n",
              "      <td>...</td>\n",
              "      <td>0</td>\n",
              "      <td>0</td>\n",
              "      <td>0</td>\n",
              "      <td>0</td>\n",
              "      <td>0</td>\n",
              "      <td>0</td>\n",
              "      <td>0</td>\n",
              "      <td>0</td>\n",
              "      <td>0</td>\n",
              "      <td>0</td>\n",
              "    </tr>\n",
              "  </tbody>\n",
              "</table>\n",
              "<p>5 rows × 664 columns</p>\n",
              "</div>"
            ],
            "text/plain": [
              "      gender  grades     agriculture  all fields related to data science  \\\n",
              "463        1    66.5  0            0                                   0   \n",
              "352        0  80.085  0            0                                   0   \n",
              "860        0      79  0            0                                   0   \n",
              "1174       1   65.55  0            0                                   0   \n",
              "2          0    64.6  0            0                                   0   \n",
              "\n",
              "      all fields related to data science.  \\\n",
              "463                                     0   \n",
              "352                                     0   \n",
              "860                                     1   \n",
              "1174                                    0   \n",
              "2                                       0   \n",
              "\n",
              "      all fields related to data science.machine learning  analysis  \\\n",
              "463                                                   0           0   \n",
              "352                                                   0           0   \n",
              "860                                                   0           0   \n",
              "1174                                                  0           0   \n",
              "2                                                     0           0   \n",
              "\n",
              "      animation  application development  ...  working capital management  \\\n",
              "463           0                        0  ...                           0   \n",
              "352           0                        0  ...                           0   \n",
              "860           0                        0  ...                           0   \n",
              "1174          0                        0  ...                           0   \n",
              "2             0                        0  ...                           0   \n",
              "\n",
              "      writing  writing skills  x-ray crystallography  xcode  xilinx vivado  \\\n",
              "463         0               0                      0      0              0   \n",
              "352         0               0                      0      0              0   \n",
              "860         0               0                      0      0              0   \n",
              "1174        0               0                      0      0              0   \n",
              "2           0               0                      0      0              0   \n",
              "\n",
              "      xml  yii2  zoho  zuul api gateway  \n",
              "463     0     0     0                 0  \n",
              "352     0     0     0                 0  \n",
              "860     0     0     0                 0  \n",
              "1174    0     0     0                 0  \n",
              "2       0     0     0                 0  \n",
              "\n",
              "[5 rows x 664 columns]"
            ]
          },
          "execution_count": 54,
          "metadata": {},
          "output_type": "execute_result"
        }
      ],
      "source": [
        "X_test.head()"
      ]
    },
    {
      "cell_type": "code",
      "execution_count": 55,
      "metadata": {
        "id": "B2JMUVd2pltE"
      },
      "outputs": [],
      "source": [
        "Y_pred_lr=lr.predict(X_test_std)"
      ]
    },
    {
      "cell_type": "code",
      "execution_count": 56,
      "metadata": {
        "colab": {
          "base_uri": "https://localhost:8080/"
        },
        "id": "L9rhY38Wptkv",
        "outputId": "a094c933-5c38-4110-ba93-30a262729aa9"
      },
      "outputs": [
        {
          "name": "stdout",
          "output_type": "stream",
          "text": [
            "-1.341808907698484e+27\n",
            "71145306266875.52\n",
            "380819528048199.2\n"
          ]
        }
      ],
      "source": [
        "from sklearn.metrics import r2_score, mean_absolute_error, mean_squared_error\n",
        "print(r2_score(Y_test,Y_pred_lr))\n",
        "print(mean_absolute_error(Y_test,Y_pred_lr))\n",
        "print(np.sqrt(mean_squared_error(Y_test,Y_pred_lr)))"
      ]
    },
    {
      "cell_type": "code",
      "execution_count": 57,
      "metadata": {
        "colab": {
          "base_uri": "https://localhost:8080/"
        },
        "id": "KCCof1WhpwJl",
        "outputId": "1b04b369-cbea-458d-994f-8fab74b3b70b"
      },
      "outputs": [
        {
          "data": {
            "text/plain": [
              "['lr.sav']"
            ]
          },
          "execution_count": 57,
          "metadata": {},
          "output_type": "execute_result"
        }
      ],
      "source": [
        "joblib.dump(lr,r'lr.sav')"
      ]
    },
    {
      "cell_type": "code",
      "execution_count": 58,
      "metadata": {
        "id": "U9KbgUQqpz0c"
      },
      "outputs": [],
      "source": [
        "from sklearn.ensemble import RandomForestRegressor\n",
        "rf= RandomForestRegressor()"
      ]
    },
    {
      "cell_type": "code",
      "execution_count": 59,
      "metadata": {
        "colab": {
          "base_uri": "https://localhost:8080/",
          "height": 74
        },
        "id": "3noG2Obdp1hm",
        "outputId": "2aa8d3dc-fc3b-41fe-e94c-8a724bc27fe5"
      },
      "outputs": [
        {
          "data": {
            "text/html": [
              "<style>#sk-container-id-2 {color: black;}#sk-container-id-2 pre{padding: 0;}#sk-container-id-2 div.sk-toggleable {background-color: white;}#sk-container-id-2 label.sk-toggleable__label {cursor: pointer;display: block;width: 100%;margin-bottom: 0;padding: 0.3em;box-sizing: border-box;text-align: center;}#sk-container-id-2 label.sk-toggleable__label-arrow:before {content: \"▸\";float: left;margin-right: 0.25em;color: #696969;}#sk-container-id-2 label.sk-toggleable__label-arrow:hover:before {color: black;}#sk-container-id-2 div.sk-estimator:hover label.sk-toggleable__label-arrow:before {color: black;}#sk-container-id-2 div.sk-toggleable__content {max-height: 0;max-width: 0;overflow: hidden;text-align: left;background-color: #f0f8ff;}#sk-container-id-2 div.sk-toggleable__content pre {margin: 0.2em;color: black;border-radius: 0.25em;background-color: #f0f8ff;}#sk-container-id-2 input.sk-toggleable__control:checked~div.sk-toggleable__content {max-height: 200px;max-width: 100%;overflow: auto;}#sk-container-id-2 input.sk-toggleable__control:checked~label.sk-toggleable__label-arrow:before {content: \"▾\";}#sk-container-id-2 div.sk-estimator input.sk-toggleable__control:checked~label.sk-toggleable__label {background-color: #d4ebff;}#sk-container-id-2 div.sk-label input.sk-toggleable__control:checked~label.sk-toggleable__label {background-color: #d4ebff;}#sk-container-id-2 input.sk-hidden--visually {border: 0;clip: rect(1px 1px 1px 1px);clip: rect(1px, 1px, 1px, 1px);height: 1px;margin: -1px;overflow: hidden;padding: 0;position: absolute;width: 1px;}#sk-container-id-2 div.sk-estimator {font-family: monospace;background-color: #f0f8ff;border: 1px dotted black;border-radius: 0.25em;box-sizing: border-box;margin-bottom: 0.5em;}#sk-container-id-2 div.sk-estimator:hover {background-color: #d4ebff;}#sk-container-id-2 div.sk-parallel-item::after {content: \"\";width: 100%;border-bottom: 1px solid gray;flex-grow: 1;}#sk-container-id-2 div.sk-label:hover label.sk-toggleable__label {background-color: #d4ebff;}#sk-container-id-2 div.sk-serial::before {content: \"\";position: absolute;border-left: 1px solid gray;box-sizing: border-box;top: 0;bottom: 0;left: 50%;z-index: 0;}#sk-container-id-2 div.sk-serial {display: flex;flex-direction: column;align-items: center;background-color: white;padding-right: 0.2em;padding-left: 0.2em;position: relative;}#sk-container-id-2 div.sk-item {position: relative;z-index: 1;}#sk-container-id-2 div.sk-parallel {display: flex;align-items: stretch;justify-content: center;background-color: white;position: relative;}#sk-container-id-2 div.sk-item::before, #sk-container-id-2 div.sk-parallel-item::before {content: \"\";position: absolute;border-left: 1px solid gray;box-sizing: border-box;top: 0;bottom: 0;left: 50%;z-index: -1;}#sk-container-id-2 div.sk-parallel-item {display: flex;flex-direction: column;z-index: 1;position: relative;background-color: white;}#sk-container-id-2 div.sk-parallel-item:first-child::after {align-self: flex-end;width: 50%;}#sk-container-id-2 div.sk-parallel-item:last-child::after {align-self: flex-start;width: 50%;}#sk-container-id-2 div.sk-parallel-item:only-child::after {width: 0;}#sk-container-id-2 div.sk-dashed-wrapped {border: 1px dashed gray;margin: 0 0.4em 0.5em 0.4em;box-sizing: border-box;padding-bottom: 0.4em;background-color: white;}#sk-container-id-2 div.sk-label label {font-family: monospace;font-weight: bold;display: inline-block;line-height: 1.2em;}#sk-container-id-2 div.sk-label-container {text-align: center;}#sk-container-id-2 div.sk-container {/* jupyter's `normalize.less` sets `[hidden] { display: none; }` but bootstrap.min.css set `[hidden] { display: none !important; }` so we also need the `!important` here to be able to override the default hidden behavior on the sphinx rendered scikit-learn.org. See: https://github.com/scikit-learn/scikit-learn/issues/21755 */display: inline-block !important;position: relative;}#sk-container-id-2 div.sk-text-repr-fallback {display: none;}</style><div id=\"sk-container-id-2\" class=\"sk-top-container\"><div class=\"sk-text-repr-fallback\"><pre>RandomForestRegressor()</pre><b>In a Jupyter environment, please rerun this cell to show the HTML representation or trust the notebook. <br />On GitHub, the HTML representation is unable to render, please try loading this page with nbviewer.org.</b></div><div class=\"sk-container\" hidden><div class=\"sk-item\"><div class=\"sk-estimator sk-toggleable\"><input class=\"sk-toggleable__control sk-hidden--visually\" id=\"sk-estimator-id-2\" type=\"checkbox\" checked><label for=\"sk-estimator-id-2\" class=\"sk-toggleable__label sk-toggleable__label-arrow\">RandomForestRegressor</label><div class=\"sk-toggleable__content\"><pre>RandomForestRegressor()</pre></div></div></div></div></div>"
            ],
            "text/plain": [
              "RandomForestRegressor()"
            ]
          },
          "execution_count": 59,
          "metadata": {},
          "output_type": "execute_result"
        }
      ],
      "source": [
        "rf.fit(X_train,Y_train)"
      ]
    },
    {
      "cell_type": "code",
      "execution_count": 60,
      "metadata": {
        "id": "amk6Ncqrp4bC"
      },
      "outputs": [],
      "source": [
        "Y_pred_rf= rf.predict(X_test)"
      ]
    },
    {
      "cell_type": "code",
      "execution_count": 61,
      "metadata": {
        "colab": {
          "base_uri": "https://localhost:8080/"
        },
        "id": "DGgxvsFyp5x2",
        "outputId": "e01b18dd-4b68-414f-af8c-b7466ccfff0e"
      },
      "outputs": [
        {
          "name": "stdout",
          "output_type": "stream",
          "text": [
            "-0.13952662574769104\n",
            "6.942782426778242\n",
            "11.097780065057377\n"
          ]
        }
      ],
      "source": [
        "print(r2_score(Y_test,Y_pred_rf))\n",
        "print(mean_absolute_error(Y_test,Y_pred_rf))\n",
        "print(np.sqrt(mean_squared_error(Y_test,Y_pred_rf)))"
      ]
    },
    {
      "cell_type": "code",
      "execution_count": 62,
      "metadata": {
        "colab": {
          "base_uri": "https://localhost:8080/"
        },
        "id": "CxkV8BVnp7vR",
        "outputId": "c147739d-1413-48ea-eca1-9d9ac076220f"
      },
      "outputs": [
        {
          "data": {
            "text/plain": [
              "['rf.sav']"
            ]
          },
          "execution_count": 62,
          "metadata": {},
          "output_type": "execute_result"
        }
      ],
      "source": [
        "joblib.dump(rf,r'rf.sav')"
      ]
    },
    {
      "cell_type": "code",
      "execution_count": 63,
      "metadata": {
        "colab": {
          "base_uri": "https://localhost:8080/"
        },
        "id": "K7oghZufp-YZ",
        "outputId": "02187d7f-af55-4fd0-da1a-adbe4b57b3a1"
      },
      "outputs": [
        {
          "name": "stdout",
          "output_type": "stream",
          "text": [
            "Fitting 2 folds for each of 90 candidates, totalling 180 fits\n",
            "Collecting klib\n",
            "  Obtaining dependency information for klib from https://files.pythonhosted.org/packages/96/d5/4978eb763ed5dea42633df2ff2db9893bd70091ca5469383b3da7b8352f7/klib-1.1.2-py3-none-any.whl.metadata\n",
            "  Downloading klib-1.1.2-py3-none-any.whl.metadata (7.6 kB)\n",
            "Requirement already satisfied: Jinja2<4.0.0,>=3.0.3 in c:\\users\\hp\\appdata\\local\\packages\\pythonsoftwarefoundation.python.3.11_qbz5n2kfra8p0\\localcache\\local-packages\\python311\\site-packages (from klib) (3.1.2)\n",
            "Requirement already satisfied: matplotlib<4.0.0,>=3.0.3 in c:\\users\\hp\\appdata\\local\\packages\\pythonsoftwarefoundation.python.3.11_qbz5n2kfra8p0\\localcache\\local-packages\\python311\\site-packages (from klib) (3.7.2)\n",
            "Requirement already satisfied: numpy<2.0.0,>=1.16.3 in c:\\users\\hp\\appdata\\local\\packages\\pythonsoftwarefoundation.python.3.11_qbz5n2kfra8p0\\localcache\\local-packages\\python311\\site-packages (from klib) (1.24.3)\n",
            "Requirement already satisfied: pandas<3.0,>=1.2 in c:\\users\\hp\\appdata\\local\\packages\\pythonsoftwarefoundation.python.3.11_qbz5n2kfra8p0\\localcache\\local-packages\\python311\\site-packages (from klib) (2.0.3)\n",
            "Collecting plotly<6.0.0,>=5.2.2 (from klib)\n",
            "  Obtaining dependency information for plotly<6.0.0,>=5.2.2 from https://files.pythonhosted.org/packages/df/79/c80174d711ee26ee5da55a9cc3e248f1ec7a0188b5e4d6bbbbcd09b974b0/plotly-5.17.0-py2.py3-none-any.whl.metadata\n",
            "  Downloading plotly-5.17.0-py2.py3-none-any.whl.metadata (7.0 kB)\n",
            "Requirement already satisfied: scipy<2.0.0,>=1.1.0 in c:\\users\\hp\\appdata\\local\\packages\\pythonsoftwarefoundation.python.3.11_qbz5n2kfra8p0\\localcache\\local-packages\\python311\\site-packages (from klib) (1.11.2)\n",
            "Collecting screeninfo<0.9.0,>=0.8.1 (from klib)\n",
            "  Downloading screeninfo-0.8.1-py3-none-any.whl (12 kB)\n",
            "Requirement already satisfied: seaborn>=0.11.2 in c:\\users\\hp\\appdata\\local\\packages\\pythonsoftwarefoundation.python.3.11_qbz5n2kfra8p0\\localcache\\local-packages\\python311\\site-packages (from klib) (0.12.2)\n",
            "Requirement already satisfied: MarkupSafe>=2.0 in c:\\users\\hp\\appdata\\local\\packages\\pythonsoftwarefoundation.python.3.11_qbz5n2kfra8p0\\localcache\\local-packages\\python311\\site-packages (from Jinja2<4.0.0,>=3.0.3->klib) (2.1.3)\n",
            "Requirement already satisfied: contourpy>=1.0.1 in c:\\users\\hp\\appdata\\local\\packages\\pythonsoftwarefoundation.python.3.11_qbz5n2kfra8p0\\localcache\\local-packages\\python311\\site-packages (from matplotlib<4.0.0,>=3.0.3->klib) (1.1.0)\n",
            "Requirement already satisfied: cycler>=0.10 in c:\\users\\hp\\appdata\\local\\packages\\pythonsoftwarefoundation.python.3.11_qbz5n2kfra8p0\\localcache\\local-packages\\python311\\site-packages (from matplotlib<4.0.0,>=3.0.3->klib) (0.11.0)\n",
            "Requirement already satisfied: fonttools>=4.22.0 in c:\\users\\hp\\appdata\\local\\packages\\pythonsoftwarefoundation.python.3.11_qbz5n2kfra8p0\\localcache\\local-packages\\python311\\site-packages (from matplotlib<4.0.0,>=3.0.3->klib) (4.42.1)\n",
            "Requirement already satisfied: kiwisolver>=1.0.1 in c:\\users\\hp\\appdata\\local\\packages\\pythonsoftwarefoundation.python.3.11_qbz5n2kfra8p0\\localcache\\local-packages\\python311\\site-packages (from matplotlib<4.0.0,>=3.0.3->klib) (1.4.4)\n",
            "Requirement already satisfied: packaging>=20.0 in c:\\users\\hp\\appdata\\local\\packages\\pythonsoftwarefoundation.python.3.11_qbz5n2kfra8p0\\localcache\\local-packages\\python311\\site-packages (from matplotlib<4.0.0,>=3.0.3->klib) (23.1)\n",
            "Requirement already satisfied: pillow>=6.2.0 in c:\\users\\hp\\appdata\\local\\packages\\pythonsoftwarefoundation.python.3.11_qbz5n2kfra8p0\\localcache\\local-packages\\python311\\site-packages (from matplotlib<4.0.0,>=3.0.3->klib) (10.0.0)\n",
            "Requirement already satisfied: pyparsing<3.1,>=2.3.1 in c:\\users\\hp\\appdata\\local\\packages\\pythonsoftwarefoundation.python.3.11_qbz5n2kfra8p0\\localcache\\local-packages\\python311\\site-packages (from matplotlib<4.0.0,>=3.0.3->klib) (3.0.9)\n",
            "Requirement already satisfied: python-dateutil>=2.7 in c:\\users\\hp\\appdata\\local\\packages\\pythonsoftwarefoundation.python.3.11_qbz5n2kfra8p0\\localcache\\local-packages\\python311\\site-packages (from matplotlib<4.0.0,>=3.0.3->klib) (2.8.2)\n",
            "Requirement already satisfied: pytz>=2020.1 in c:\\users\\hp\\appdata\\local\\packages\\pythonsoftwarefoundation.python.3.11_qbz5n2kfra8p0\\localcache\\local-packages\\python311\\site-packages (from pandas<3.0,>=1.2->klib) (2023.3)\n",
            "Requirement already satisfied: tzdata>=2022.1 in c:\\users\\hp\\appdata\\local\\packages\\pythonsoftwarefoundation.python.3.11_qbz5n2kfra8p0\\localcache\\local-packages\\python311\\site-packages (from pandas<3.0,>=1.2->klib) (2023.3)\n",
            "Requirement already satisfied: tenacity>=6.2.0 in c:\\users\\hp\\appdata\\local\\packages\\pythonsoftwarefoundation.python.3.11_qbz5n2kfra8p0\\localcache\\local-packages\\python311\\site-packages (from plotly<6.0.0,>=5.2.2->klib) (8.2.3)\n",
            "Requirement already satisfied: six>=1.5 in c:\\users\\hp\\appdata\\local\\packages\\pythonsoftwarefoundation.python.3.11_qbz5n2kfra8p0\\localcache\\local-packages\\python311\\site-packages (from python-dateutil>=2.7->matplotlib<4.0.0,>=3.0.3->klib) (1.16.0)\n",
            "Downloading klib-1.1.2-py3-none-any.whl (22 kB)\n",
            "Downloading plotly-5.17.0-py2.py3-none-any.whl (15.6 MB)\n",
            "   ---------------------------------------- 0.0/15.6 MB ? eta -:--:--\n",
            "   ---------- ----------------------------- 4.2/15.6 MB 88.9 MB/s eta 0:00:01\n",
            "   ----------------- ---------------------- 6.8/15.6 MB 71.8 MB/s eta 0:00:01\n",
            "   -------------------- ------------------- 7.9/15.6 MB 56.7 MB/s eta 0:00:01\n",
            "   ----------------------- ---------------- 9.3/15.6 MB 49.6 MB/s eta 0:00:01\n",
            "   --------------------------- ------------ 10.6/15.6 MB 43.7 MB/s eta 0:00:01\n",
            "   ------------------------------ --------- 11.9/15.6 MB 38.5 MB/s eta 0:00:01\n",
            "   --------------------------------- ------ 13.1/15.6 MB 34.4 MB/s eta 0:00:01\n",
            "   ---------------------------------------  15.3/15.6 MB 32.7 MB/s eta 0:00:01\n",
            "   ---------------------------------------  15.6/15.6 MB 32.7 MB/s eta 0:00:01\n",
            "   ---------------------------------------  15.6/15.6 MB 32.7 MB/s eta 0:00:01\n",
            "   ---------------------------------------- 15.6/15.6 MB 25.1 MB/s eta 0:00:00\n",
            "Installing collected packages: screeninfo, plotly, klib\n",
            "Successfully installed klib-1.1.2 plotly-5.17.0 screeninfo-0.8.1\n",
            "Best: 0.014 using {'max_depth': 2, 'n_estimators': 10}\n",
            "0.005 (0.007) with: {'max_depth': 1, 'n_estimators': 10}\n",
            "0.007 (0.009) with: {'max_depth': 1, 'n_estimators': 100}\n",
            "0.009 (0.006) with: {'max_depth': 1, 'n_estimators': 1000}\n",
            "0.014 (0.013) with: {'max_depth': 2, 'n_estimators': 10}\n",
            "0.014 (0.011) with: {'max_depth': 2, 'n_estimators': 100}\n",
            "0.012 (0.010) with: {'max_depth': 2, 'n_estimators': 1000}\n",
            "-0.007 (0.026) with: {'max_depth': 3, 'n_estimators': 10}\n",
            "0.013 (0.018) with: {'max_depth': 3, 'n_estimators': 100}\n",
            "0.008 (0.024) with: {'max_depth': 3, 'n_estimators': 1000}\n",
            "-0.030 (0.051) with: {'max_depth': 4, 'n_estimators': 10}\n",
            "0.001 (0.036) with: {'max_depth': 4, 'n_estimators': 100}\n",
            "0.001 (0.034) with: {'max_depth': 4, 'n_estimators': 1000}\n",
            "-0.025 (0.038) with: {'max_depth': 5, 'n_estimators': 10}\n",
            "-0.007 (0.048) with: {'max_depth': 5, 'n_estimators': 100}\n",
            "-0.004 (0.046) with: {'max_depth': 5, 'n_estimators': 1000}\n",
            "-0.047 (0.080) with: {'max_depth': 6, 'n_estimators': 10}\n",
            "-0.020 (0.051) with: {'max_depth': 6, 'n_estimators': 100}\n",
            "-0.010 (0.054) with: {'max_depth': 6, 'n_estimators': 1000}\n",
            "-0.088 (0.055) with: {'max_depth': 7, 'n_estimators': 10}\n",
            "-0.019 (0.065) with: {'max_depth': 7, 'n_estimators': 100}\n",
            "-0.016 (0.063) with: {'max_depth': 7, 'n_estimators': 1000}\n",
            "-0.105 (0.091) with: {'max_depth': 8, 'n_estimators': 10}\n",
            "-0.023 (0.064) with: {'max_depth': 8, 'n_estimators': 100}\n",
            "-0.022 (0.070) with: {'max_depth': 8, 'n_estimators': 1000}\n",
            "-0.105 (0.083) with: {'max_depth': 9, 'n_estimators': 10}\n",
            "-0.032 (0.073) with: {'max_depth': 9, 'n_estimators': 100}\n",
            "-0.033 (0.071) with: {'max_depth': 9, 'n_estimators': 1000}\n",
            "-0.059 (0.074) with: {'max_depth': 10, 'n_estimators': 10}\n",
            "-0.048 (0.068) with: {'max_depth': 10, 'n_estimators': 100}\n",
            "-0.037 (0.073) with: {'max_depth': 10, 'n_estimators': 1000}\n",
            "-0.089 (0.054) with: {'max_depth': 11, 'n_estimators': 10}\n",
            "-0.042 (0.065) with: {'max_depth': 11, 'n_estimators': 100}\n",
            "-0.039 (0.076) with: {'max_depth': 11, 'n_estimators': 1000}\n",
            "-0.143 (0.081) with: {'max_depth': 12, 'n_estimators': 10}\n",
            "-0.046 (0.067) with: {'max_depth': 12, 'n_estimators': 100}\n",
            "-0.046 (0.074) with: {'max_depth': 12, 'n_estimators': 1000}\n",
            "-0.171 (0.045) with: {'max_depth': 13, 'n_estimators': 10}\n",
            "-0.046 (0.062) with: {'max_depth': 13, 'n_estimators': 100}\n",
            "-0.052 (0.070) with: {'max_depth': 13, 'n_estimators': 1000}\n",
            "-0.102 (0.075) with: {'max_depth': 14, 'n_estimators': 10}\n",
            "-0.068 (0.052) with: {'max_depth': 14, 'n_estimators': 100}\n",
            "-0.058 (0.071) with: {'max_depth': 14, 'n_estimators': 1000}\n",
            "-0.154 (0.042) with: {'max_depth': 15, 'n_estimators': 10}\n",
            "-0.072 (0.065) with: {'max_depth': 15, 'n_estimators': 100}\n",
            "-0.060 (0.078) with: {'max_depth': 15, 'n_estimators': 1000}\n",
            "-0.123 (0.032) with: {'max_depth': 16, 'n_estimators': 10}\n",
            "-0.068 (0.089) with: {'max_depth': 16, 'n_estimators': 100}\n",
            "-0.064 (0.072) with: {'max_depth': 16, 'n_estimators': 1000}\n",
            "-0.113 (0.088) with: {'max_depth': 17, 'n_estimators': 10}\n",
            "-0.056 (0.066) with: {'max_depth': 17, 'n_estimators': 100}\n",
            "-0.058 (0.070) with: {'max_depth': 17, 'n_estimators': 1000}\n",
            "-0.173 (0.086) with: {'max_depth': 18, 'n_estimators': 10}\n",
            "-0.054 (0.066) with: {'max_depth': 18, 'n_estimators': 100}\n",
            "-0.067 (0.074) with: {'max_depth': 18, 'n_estimators': 1000}\n",
            "-0.242 (0.070) with: {'max_depth': 19, 'n_estimators': 10}\n",
            "-0.064 (0.097) with: {'max_depth': 19, 'n_estimators': 100}\n",
            "-0.066 (0.071) with: {'max_depth': 19, 'n_estimators': 1000}\n",
            "-0.141 (0.082) with: {'max_depth': 20, 'n_estimators': 10}\n",
            "-0.074 (0.058) with: {'max_depth': 20, 'n_estimators': 100}\n",
            "-0.067 (0.073) with: {'max_depth': 20, 'n_estimators': 1000}\n",
            "-0.209 (0.022) with: {'max_depth': 21, 'n_estimators': 10}\n",
            "-0.080 (0.072) with: {'max_depth': 21, 'n_estimators': 100}\n",
            "-0.067 (0.070) with: {'max_depth': 21, 'n_estimators': 1000}\n",
            "-0.180 (0.074) with: {'max_depth': 22, 'n_estimators': 10}\n",
            "-0.078 (0.059) with: {'max_depth': 22, 'n_estimators': 100}\n",
            "-0.069 (0.075) with: {'max_depth': 22, 'n_estimators': 1000}\n",
            "-0.145 (0.040) with: {'max_depth': 23, 'n_estimators': 10}\n",
            "-0.064 (0.057) with: {'max_depth': 23, 'n_estimators': 100}\n",
            "-0.067 (0.069) with: {'max_depth': 23, 'n_estimators': 1000}\n",
            "-0.181 (0.097) with: {'max_depth': 24, 'n_estimators': 10}\n",
            "-0.071 (0.061) with: {'max_depth': 24, 'n_estimators': 100}\n",
            "-0.065 (0.070) with: {'max_depth': 24, 'n_estimators': 1000}\n",
            "-0.169 (0.086) with: {'max_depth': 25, 'n_estimators': 10}\n",
            "-0.093 (0.065) with: {'max_depth': 25, 'n_estimators': 100}\n",
            "-0.074 (0.070) with: {'max_depth': 25, 'n_estimators': 1000}\n",
            "-0.232 (0.090) with: {'max_depth': 26, 'n_estimators': 10}\n",
            "-0.069 (0.086) with: {'max_depth': 26, 'n_estimators': 100}\n",
            "-0.067 (0.072) with: {'max_depth': 26, 'n_estimators': 1000}\n",
            "-0.185 (0.042) with: {'max_depth': 27, 'n_estimators': 10}\n",
            "-0.077 (0.063) with: {'max_depth': 27, 'n_estimators': 100}\n",
            "-0.062 (0.071) with: {'max_depth': 27, 'n_estimators': 1000}\n",
            "-0.191 (0.084) with: {'max_depth': 28, 'n_estimators': 10}\n",
            "-0.076 (0.063) with: {'max_depth': 28, 'n_estimators': 100}\n",
            "-0.067 (0.067) with: {'max_depth': 28, 'n_estimators': 1000}\n",
            "-0.141 (0.054) with: {'max_depth': 29, 'n_estimators': 10}\n",
            "-0.071 (0.065) with: {'max_depth': 29, 'n_estimators': 100}\n",
            "-0.065 (0.072) with: {'max_depth': 29, 'n_estimators': 1000}\n",
            "-0.144 (0.041) with: {'max_depth': 30, 'n_estimators': 10}\n",
            "-0.069 (0.066) with: {'max_depth': 30, 'n_estimators': 100}\n",
            "-0.071 (0.071) with: {'max_depth': 30, 'n_estimators': 1000}\n"
          ]
        }
      ],
      "source": [
        "from sklearn.model_selection import RepeatedStratifiedKFold\n",
        "from sklearn.model_selection import GridSearchCV\n",
        "\n",
        "# define models and parameters\n",
        "model = RandomForestRegressor()\n",
        "n_estimators = [10, 100, 1000]\n",
        "max_depth=range(1,31)\n",
        "min_samples_leaf=np.linspace(0.1, 1.0)\n",
        "max_features=[\"auto\", \"sqrt\", \"log2\"]\n",
        "min_samples_split=np.linspace(0.1, 1.0, 10)\n",
        "\n",
        "# define grid search\n",
        "grid = dict(n_estimators=n_estimators, max_depth=max_depth)\n",
        "\n",
        "#cv = RepeatedStratifiedKFold(n_splits=5, n_repeats=3, random_state=101)\n",
        "\n",
        "grid_search_forest = GridSearchCV(estimator=model, param_grid=grid, n_jobs=-1,\n",
        "                           scoring='r2',error_score=0,verbose=2,cv=2)\n",
        "\n",
        "grid_search_forest.fit(X_train_std, Y_train)\n",
        "\n",
        "# summarize results\n",
        "print(f\"Best: {grid_search_forest.best_score_:.3f} using {grid_search_forest.best_params_}\")\n",
        "means = grid_search_forest.cv_results_['mean_test_score']\n",
        "stds = grid_search_forest.cv_results_['std_test_score']\n",
        "params = grid_search_forest.cv_results_['params']\n",
        "\n",
        "for mean, stdev, param in zip(means, stds, params):\n",
        "    print(f\"{mean:.3f} ({stdev:.3f}) with: {param}\")"
      ]
    },
    {
      "cell_type": "code",
      "execution_count": 64,
      "metadata": {
        "colab": {
          "base_uri": "https://localhost:8080/"
        },
        "id": "KpZuYA1tt9Ur",
        "outputId": "50a547bd-d00c-4b95-92a4-8e09c1fab975"
      },
      "outputs": [
        {
          "data": {
            "text/plain": [
              "['grid_search_forest.sav']"
            ]
          },
          "execution_count": 64,
          "metadata": {},
          "output_type": "execute_result"
        }
      ],
      "source": [
        "joblib.dump(grid_search_forest,r'grid_search_forest.sav')"
      ]
    }
  ],
  "metadata": {
    "accelerator": "GPU",
    "colab": {
      "gpuType": "T4",
      "provenance": []
    },
    "kernelspec": {
      "display_name": "Python 3",
      "name": "python3"
    },
    "language_info": {
      "codemirror_mode": {
        "name": "ipython",
        "version": 3
      },
      "file_extension": ".py",
      "mimetype": "text/x-python",
      "name": "python",
      "nbconvert_exporter": "python",
      "pygments_lexer": "ipython3",
      "version": "3.11.6"
    }
  },
  "nbformat": 4,
  "nbformat_minor": 0
}
